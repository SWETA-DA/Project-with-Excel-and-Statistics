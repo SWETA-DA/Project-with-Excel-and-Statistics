{
 "cells": [
  {
   "cell_type": "markdown",
   "id": "049956db",
   "metadata": {
    "papermill": {
     "duration": 0.031894,
     "end_time": "2025-04-08T20:04:20.412223",
     "exception": false,
     "start_time": "2025-04-08T20:04:20.380329",
     "status": "completed"
    },
    "tags": []
   },
   "source": [
    "<h3 style = \"background-color: #000033;\n",
    "             padding: 15px;\n",
    "             font: bold 42px arial;\n",
    "             color: #ccebff;\n",
    "             border: 2px #e6e6ff;\n",
    "             border-radius: 8px\">\n",
    " AMAZON BUSINESS AND SALES ANALYTICS </h3>"
   ]
  },
  {
   "cell_type": "code",
   "execution_count": null,
   "id": "7c41f642",
   "metadata": {
    "execution": {
     "iopub.execute_input": "2025-04-08T20:04:20.596749Z",
     "iopub.status.busy": "2025-04-08T20:04:20.596298Z",
     "iopub.status.idle": "2025-04-08T20:04:23.040736Z",
     "shell.execute_reply": "2025-04-08T20:04:23.039732Z"
    },
    "papermill": {
     "duration": 2.479494,
     "end_time": "2025-04-08T20:04:23.043114",
     "exception": false,
     "start_time": "2025-04-08T20:04:20.563620",
     "status": "completed"
    },
    "tags": []
   },
   "outputs": [
    {
     "ename": "",
     "evalue": "",
     "output_type": "error",
     "traceback": [
      "\u001b[1;31mRunning cells with 'Python 3.13.2' requires the ipykernel package.\n",
      "\u001b[1;31mRun the following command to install 'ipykernel' into the Python environment. \n",
      "\u001b[1;31mCommand: '/usr/local/bin/python3 -m pip install ipykernel -U --user --force-reinstall'"
     ]
    }
   ],
   "source": [
    "import numpy as np\n",
    "import pandas as pd\n",
    "import seaborn as sns\n",
    "import matplotlib.pyplot as plt"
   ]
  },
  {
   "cell_type": "code",
   "execution_count": null,
   "id": "4b5814e0",
   "metadata": {
    "execution": {
     "iopub.execute_input": "2025-04-08T20:04:23.168066Z",
     "iopub.status.busy": "2025-04-08T20:04:23.167509Z",
     "iopub.status.idle": "2025-04-08T20:04:29.696790Z",
     "shell.execute_reply": "2025-04-08T20:04:29.695701Z"
    },
    "papermill": {
     "duration": 6.624609,
     "end_time": "2025-04-08T20:04:29.699370",
     "exception": false,
     "start_time": "2025-04-08T20:04:23.074761",
     "status": "completed"
    },
    "scrolled": true,
    "tags": []
   },
   "outputs": [],
   "source": [
    "data=pd.read_csv('/kaggle/input/amazon-products-dataset/Amazon-Products.csv')"
   ]
  },
  {
   "cell_type": "code",
   "execution_count": null,
   "id": "0c16a2a7",
   "metadata": {
    "execution": {
     "iopub.execute_input": "2025-04-08T20:04:29.762733Z",
     "iopub.status.busy": "2025-04-08T20:04:29.762344Z",
     "iopub.status.idle": "2025-04-08T20:04:29.810219Z",
     "shell.execute_reply": "2025-04-08T20:04:29.809009Z"
    },
    "papermill": {
     "duration": 0.082213,
     "end_time": "2025-04-08T20:04:29.812596",
     "exception": false,
     "start_time": "2025-04-08T20:04:29.730383",
     "status": "completed"
    },
    "scrolled": true,
    "tags": []
   },
   "outputs": [],
   "source": [
    "data.sample(10)"
   ]
  },
  {
   "cell_type": "code",
   "execution_count": null,
   "id": "bab6cb40",
   "metadata": {
    "execution": {
     "iopub.execute_input": "2025-04-08T20:04:29.876031Z",
     "iopub.status.busy": "2025-04-08T20:04:29.875635Z",
     "iopub.status.idle": "2025-04-08T20:04:29.880340Z",
     "shell.execute_reply": "2025-04-08T20:04:29.879376Z"
    },
    "papermill": {
     "duration": 0.038619,
     "end_time": "2025-04-08T20:04:29.882353",
     "exception": false,
     "start_time": "2025-04-08T20:04:29.843734",
     "status": "completed"
    },
    "tags": []
   },
   "outputs": [],
   "source": [
    "import warnings\n",
    "\n",
    "# Ignore all warnings\n",
    "warnings.filterwarnings(\"ignore\")"
   ]
  },
  {
   "cell_type": "markdown",
   "id": "f299d47e",
   "metadata": {
    "_kg_hide-input": true,
    "_kg_hide-output": true,
    "papermill": {
     "duration": 0.031404,
     "end_time": "2025-04-08T20:04:29.944200",
     "exception": false,
     "start_time": "2025-04-08T20:04:29.912796",
     "status": "completed"
    },
    "tags": []
   },
   "source": [
    "# Data Cleaning"
   ]
  },
  {
   "cell_type": "code",
   "execution_count": null,
   "id": "15e842b7",
   "metadata": {
    "execution": {
     "iopub.execute_input": "2025-04-08T20:04:30.071869Z",
     "iopub.status.busy": "2025-04-08T20:04:30.071039Z",
     "iopub.status.idle": "2025-04-08T20:04:30.077345Z",
     "shell.execute_reply": "2025-04-08T20:04:30.076214Z"
    },
    "papermill": {
     "duration": 0.043161,
     "end_time": "2025-04-08T20:04:30.079272",
     "exception": false,
     "start_time": "2025-04-08T20:04:30.036111",
     "status": "completed"
    },
    "tags": []
   },
   "outputs": [],
   "source": [
    "data.shape"
   ]
  },
  {
   "cell_type": "code",
   "execution_count": null,
   "id": "967e7c03",
   "metadata": {
    "execution": {
     "iopub.execute_input": "2025-04-08T20:04:30.144755Z",
     "iopub.status.busy": "2025-04-08T20:04:30.144387Z",
     "iopub.status.idle": "2025-04-08T20:04:31.317902Z",
     "shell.execute_reply": "2025-04-08T20:04:31.316756Z"
    },
    "papermill": {
     "duration": 1.210038,
     "end_time": "2025-04-08T20:04:31.320268",
     "exception": false,
     "start_time": "2025-04-08T20:04:30.110230",
     "status": "completed"
    },
    "tags": []
   },
   "outputs": [],
   "source": [
    "#checking for  duplicates\n",
    "data.duplicated().sum()"
   ]
  },
  {
   "cell_type": "code",
   "execution_count": null,
   "id": "04953adf",
   "metadata": {
    "execution": {
     "iopub.execute_input": "2025-04-08T20:04:31.386223Z",
     "iopub.status.busy": "2025-04-08T20:04:31.385854Z",
     "iopub.status.idle": "2025-04-08T20:04:32.620088Z",
     "shell.execute_reply": "2025-04-08T20:04:32.618854Z"
    },
    "papermill": {
     "duration": 1.270445,
     "end_time": "2025-04-08T20:04:32.622452",
     "exception": false,
     "start_time": "2025-04-08T20:04:31.352007",
     "status": "completed"
    },
    "tags": []
   },
   "outputs": [],
   "source": [
    "data.drop_duplicates(inplace=True)"
   ]
  },
  {
   "cell_type": "code",
   "execution_count": null,
   "id": "26a3ed98",
   "metadata": {
    "execution": {
     "iopub.execute_input": "2025-04-08T20:04:32.688869Z",
     "iopub.status.busy": "2025-04-08T20:04:32.688489Z",
     "iopub.status.idle": "2025-04-08T20:04:32.695007Z",
     "shell.execute_reply": "2025-04-08T20:04:32.694000Z"
    },
    "papermill": {
     "duration": 0.041464,
     "end_time": "2025-04-08T20:04:32.696856",
     "exception": false,
     "start_time": "2025-04-08T20:04:32.655392",
     "status": "completed"
    },
    "tags": []
   },
   "outputs": [],
   "source": [
    "data.shape"
   ]
  },
  {
   "cell_type": "code",
   "execution_count": null,
   "id": "b47aa4b9",
   "metadata": {
    "execution": {
     "iopub.execute_input": "2025-04-08T20:04:32.761842Z",
     "iopub.status.busy": "2025-04-08T20:04:32.761467Z",
     "iopub.status.idle": "2025-04-08T20:04:32.860475Z",
     "shell.execute_reply": "2025-04-08T20:04:32.859402Z"
    },
    "papermill": {
     "duration": 0.133866,
     "end_time": "2025-04-08T20:04:32.862887",
     "exception": false,
     "start_time": "2025-04-08T20:04:32.729021",
     "status": "completed"
    },
    "tags": []
   },
   "outputs": [],
   "source": [
    "data=data.loc[:,['name','main_category','sub_category','ratings','no_of_ratings','discount_price','actual_price']]"
   ]
  },
  {
   "cell_type": "code",
   "execution_count": null,
   "id": "200cfb0f",
   "metadata": {
    "execution": {
     "iopub.execute_input": "2025-04-08T20:04:32.929334Z",
     "iopub.status.busy": "2025-04-08T20:04:32.928417Z",
     "iopub.status.idle": "2025-04-08T20:04:32.935845Z",
     "shell.execute_reply": "2025-04-08T20:04:32.934405Z"
    },
    "papermill": {
     "duration": 0.043438,
     "end_time": "2025-04-08T20:04:32.938190",
     "exception": false,
     "start_time": "2025-04-08T20:04:32.894752",
     "status": "completed"
    },
    "tags": []
   },
   "outputs": [],
   "source": [
    "data.columns"
   ]
  },
  {
   "cell_type": "code",
   "execution_count": null,
   "id": "c6d84bb0",
   "metadata": {
    "execution": {
     "iopub.execute_input": "2025-04-08T20:04:33.007905Z",
     "iopub.status.busy": "2025-04-08T20:04:33.007566Z",
     "iopub.status.idle": "2025-04-08T20:04:33.204235Z",
     "shell.execute_reply": "2025-04-08T20:04:33.203055Z"
    },
    "papermill": {
     "duration": 0.234077,
     "end_time": "2025-04-08T20:04:33.206948",
     "exception": false,
     "start_time": "2025-04-08T20:04:32.972871",
     "status": "completed"
    },
    "tags": []
   },
   "outputs": [],
   "source": [
    "data.info()"
   ]
  },
  {
   "cell_type": "code",
   "execution_count": null,
   "id": "04f44243",
   "metadata": {
    "execution": {
     "iopub.execute_input": "2025-04-08T20:04:33.273302Z",
     "iopub.status.busy": "2025-04-08T20:04:33.272931Z",
     "iopub.status.idle": "2025-04-08T20:04:34.273079Z",
     "shell.execute_reply": "2025-04-08T20:04:34.272020Z"
    },
    "papermill": {
     "duration": 1.036451,
     "end_time": "2025-04-08T20:04:34.275326",
     "exception": false,
     "start_time": "2025-04-08T20:04:33.238875",
     "status": "completed"
    },
    "tags": []
   },
   "outputs": [],
   "source": [
    "\n",
    "# Apply strip to all cells that are strings\n",
    "data = data.map(lambda x: x.strip() if isinstance(x, str) else x)\n",
    "\n"
   ]
  },
  {
   "cell_type": "code",
   "execution_count": null,
   "id": "a69bec03",
   "metadata": {
    "execution": {
     "iopub.execute_input": "2025-04-08T20:04:34.342164Z",
     "iopub.status.busy": "2025-04-08T20:04:34.341767Z",
     "iopub.status.idle": "2025-04-08T20:04:34.348344Z",
     "shell.execute_reply": "2025-04-08T20:04:34.347235Z"
    },
    "papermill": {
     "duration": 0.042926,
     "end_time": "2025-04-08T20:04:34.350306",
     "exception": false,
     "start_time": "2025-04-08T20:04:34.307380",
     "status": "completed"
    },
    "tags": []
   },
   "outputs": [],
   "source": [
    "data.shape"
   ]
  },
  {
   "cell_type": "code",
   "execution_count": null,
   "id": "3cf60db5",
   "metadata": {
    "execution": {
     "iopub.execute_input": "2025-04-08T20:04:34.417219Z",
     "iopub.status.busy": "2025-04-08T20:04:34.416840Z",
     "iopub.status.idle": "2025-04-08T20:04:34.608309Z",
     "shell.execute_reply": "2025-04-08T20:04:34.607234Z"
    },
    "papermill": {
     "duration": 0.228442,
     "end_time": "2025-04-08T20:04:34.610509",
     "exception": false,
     "start_time": "2025-04-08T20:04:34.382067",
     "status": "completed"
    },
    "tags": []
   },
   "outputs": [],
   "source": [
    "data.isnull().sum()"
   ]
  },
  {
   "cell_type": "code",
   "execution_count": null,
   "id": "8499b35b",
   "metadata": {
    "execution": {
     "iopub.execute_input": "2025-04-08T20:04:34.675696Z",
     "iopub.status.busy": "2025-04-08T20:04:34.675302Z",
     "iopub.status.idle": "2025-04-08T20:04:34.856159Z",
     "shell.execute_reply": "2025-04-08T20:04:34.854829Z"
    },
    "papermill": {
     "duration": 0.215849,
     "end_time": "2025-04-08T20:04:34.858442",
     "exception": false,
     "start_time": "2025-04-08T20:04:34.642593",
     "status": "completed"
    },
    "tags": []
   },
   "outputs": [],
   "source": [
    "#calculating %missing data\n",
    "\n",
    "percent_miss=[]\n",
    "for col in data.columns:\n",
    "    percentage=(data[col].isnull().sum()/data.shape[0])*100\n",
    "    print('{}-  {}%'.format(col,np.round(percentage,4)))"
   ]
  },
  {
   "cell_type": "code",
   "execution_count": null,
   "id": "3caddf15",
   "metadata": {
    "execution": {
     "iopub.execute_input": "2025-04-08T20:04:34.922515Z",
     "iopub.status.busy": "2025-04-08T20:04:34.922173Z",
     "iopub.status.idle": "2025-04-08T20:04:34.927116Z",
     "shell.execute_reply": "2025-04-08T20:04:34.925995Z"
    },
    "papermill": {
     "duration": 0.039724,
     "end_time": "2025-04-08T20:04:34.929329",
     "exception": false,
     "start_time": "2025-04-08T20:04:34.889605",
     "status": "completed"
    },
    "tags": []
   },
   "outputs": [],
   "source": [
    "# since actual_price column has less than 5% null values we can apply complete case analysis"
   ]
  },
  {
   "cell_type": "code",
   "execution_count": null,
   "id": "f3fdabd9",
   "metadata": {
    "execution": {
     "iopub.execute_input": "2025-04-08T20:04:34.995443Z",
     "iopub.status.busy": "2025-04-08T20:04:34.995091Z",
     "iopub.status.idle": "2025-04-08T20:04:35.280764Z",
     "shell.execute_reply": "2025-04-08T20:04:35.279656Z"
    },
    "papermill": {
     "duration": 0.321246,
     "end_time": "2025-04-08T20:04:35.283182",
     "exception": false,
     "start_time": "2025-04-08T20:04:34.961936",
     "status": "completed"
    },
    "tags": []
   },
   "outputs": [],
   "source": [
    "#columns with missing data <5%\n",
    "cols = [var for var in data.columns if data[var].isnull().mean()*100 < 5 and data[var].isnull().mean()*100 > 0]\n",
    "cols"
   ]
  },
  {
   "cell_type": "code",
   "execution_count": null,
   "id": "ac41fc2a",
   "metadata": {
    "execution": {
     "iopub.execute_input": "2025-04-08T20:04:35.348894Z",
     "iopub.status.busy": "2025-04-08T20:04:35.348553Z",
     "iopub.status.idle": "2025-04-08T20:04:35.455625Z",
     "shell.execute_reply": "2025-04-08T20:04:35.454536Z"
    },
    "papermill": {
     "duration": 0.142883,
     "end_time": "2025-04-08T20:04:35.458002",
     "exception": false,
     "start_time": "2025-04-08T20:04:35.315119",
     "status": "completed"
    },
    "tags": []
   },
   "outputs": [],
   "source": [
    "data.dropna(subset=cols, inplace=True)"
   ]
  },
  {
   "cell_type": "code",
   "execution_count": null,
   "id": "a829d209",
   "metadata": {
    "execution": {
     "iopub.execute_input": "2025-04-08T20:04:35.527412Z",
     "iopub.status.busy": "2025-04-08T20:04:35.527068Z",
     "iopub.status.idle": "2025-04-08T20:04:35.533126Z",
     "shell.execute_reply": "2025-04-08T20:04:35.532181Z"
    },
    "papermill": {
     "duration": 0.041528,
     "end_time": "2025-04-08T20:04:35.535015",
     "exception": false,
     "start_time": "2025-04-08T20:04:35.493487",
     "status": "completed"
    },
    "tags": []
   },
   "outputs": [],
   "source": [
    "data.shape"
   ]
  },
  {
   "cell_type": "code",
   "execution_count": null,
   "id": "ded9708c",
   "metadata": {
    "execution": {
     "iopub.execute_input": "2025-04-08T20:04:35.601782Z",
     "iopub.status.busy": "2025-04-08T20:04:35.601373Z",
     "iopub.status.idle": "2025-04-08T20:04:35.608684Z",
     "shell.execute_reply": "2025-04-08T20:04:35.607530Z"
    },
    "papermill": {
     "duration": 0.043045,
     "end_time": "2025-04-08T20:04:35.611030",
     "exception": false,
     "start_time": "2025-04-08T20:04:35.567985",
     "status": "completed"
    },
    "tags": []
   },
   "outputs": [],
   "source": [
    "data['ratings'].shape"
   ]
  },
  {
   "cell_type": "code",
   "execution_count": null,
   "id": "71869414",
   "metadata": {
    "execution": {
     "iopub.execute_input": "2025-04-08T20:04:35.677432Z",
     "iopub.status.busy": "2025-04-08T20:04:35.677057Z",
     "iopub.status.idle": "2025-04-08T20:04:35.684823Z",
     "shell.execute_reply": "2025-04-08T20:04:35.683770Z"
    },
    "papermill": {
     "duration": 0.043096,
     "end_time": "2025-04-08T20:04:35.686766",
     "exception": false,
     "start_time": "2025-04-08T20:04:35.643670",
     "status": "completed"
    },
    "tags": []
   },
   "outputs": [],
   "source": [
    "data.dtypes"
   ]
  },
  {
   "cell_type": "code",
   "execution_count": null,
   "id": "90414d31",
   "metadata": {
    "execution": {
     "iopub.execute_input": "2025-04-08T20:04:35.753712Z",
     "iopub.status.busy": "2025-04-08T20:04:35.753336Z",
     "iopub.status.idle": "2025-04-08T20:04:35.758087Z",
     "shell.execute_reply": "2025-04-08T20:04:35.756922Z"
    },
    "papermill": {
     "duration": 0.04134,
     "end_time": "2025-04-08T20:04:35.760259",
     "exception": false,
     "start_time": "2025-04-08T20:04:35.718919",
     "status": "completed"
    },
    "tags": []
   },
   "outputs": [],
   "source": [
    "# clearly apart from name, main_catefory, sub_category, rest all columns should be numerical"
   ]
  },
  {
   "cell_type": "markdown",
   "id": "a9bcee04",
   "metadata": {
    "_kg_hide-input": true,
    "_kg_hide-output": true,
    "papermill": {
     "duration": 0.031238,
     "end_time": "2025-04-08T20:04:35.823102",
     "exception": false,
     "start_time": "2025-04-08T20:04:35.791864",
     "status": "completed"
    },
    "tags": []
   },
   "source": [
    "# Preprocessing all columns"
   ]
  },
  {
   "cell_type": "markdown",
   "id": "89b138a8",
   "metadata": {
    "papermill": {
     "duration": 0.031464,
     "end_time": "2025-04-08T20:04:35.886090",
     "exception": false,
     "start_time": "2025-04-08T20:04:35.854626",
     "status": "completed"
    },
    "tags": []
   },
   "source": [
    "\n",
    "  <div style=\"background-color: #e7f3fe; \n",
    "            padding: 20px; \n",
    "            font: bold 18px Arial; \n",
    "            color: #31708f; \n",
    "            border: 2px solid #bce8f1; \n",
    "            border-radius: 8px;\">\n",
    "Preprocessing rating column\n",
    "</div>"
   ]
  },
  {
   "cell_type": "code",
   "execution_count": null,
   "id": "4d62b396",
   "metadata": {
    "execution": {
     "iopub.execute_input": "2025-04-08T20:04:35.951825Z",
     "iopub.status.busy": "2025-04-08T20:04:35.951325Z",
     "iopub.status.idle": "2025-04-08T20:04:35.991462Z",
     "shell.execute_reply": "2025-04-08T20:04:35.990468Z"
    },
    "papermill": {
     "duration": 0.075438,
     "end_time": "2025-04-08T20:04:35.993623",
     "exception": false,
     "start_time": "2025-04-08T20:04:35.918185",
     "status": "completed"
    },
    "scrolled": true,
    "tags": []
   },
   "outputs": [],
   "source": [
    "data['ratings'].value_counts()"
   ]
  },
  {
   "cell_type": "code",
   "execution_count": null,
   "id": "8caa014d",
   "metadata": {
    "execution": {
     "iopub.execute_input": "2025-04-08T20:04:36.061424Z",
     "iopub.status.busy": "2025-04-08T20:04:36.061075Z",
     "iopub.status.idle": "2025-04-08T20:04:36.088240Z",
     "shell.execute_reply": "2025-04-08T20:04:36.087220Z"
    },
    "papermill": {
     "duration": 0.062757,
     "end_time": "2025-04-08T20:04:36.090145",
     "exception": false,
     "start_time": "2025-04-08T20:04:36.027388",
     "status": "completed"
    },
    "tags": []
   },
   "outputs": [],
   "source": [
    "data['ratings'].unique()"
   ]
  },
  {
   "cell_type": "code",
   "execution_count": null,
   "id": "d77b5594",
   "metadata": {
    "execution": {
     "iopub.execute_input": "2025-04-08T20:04:36.158577Z",
     "iopub.status.busy": "2025-04-08T20:04:36.157866Z",
     "iopub.status.idle": "2025-04-08T20:04:36.188405Z",
     "shell.execute_reply": "2025-04-08T20:04:36.187292Z"
    },
    "papermill": {
     "duration": 0.066981,
     "end_time": "2025-04-08T20:04:36.190494",
     "exception": false,
     "start_time": "2025-04-08T20:04:36.123513",
     "status": "completed"
    },
    "tags": []
   },
   "outputs": [],
   "source": [
    "pd.set_option('display.max_rows',None) \n",
    "data['no_of_ratings'].unique()"
   ]
  },
  {
   "cell_type": "code",
   "execution_count": null,
   "id": "3347e38d",
   "metadata": {
    "execution": {
     "iopub.execute_input": "2025-04-08T20:04:36.259605Z",
     "iopub.status.busy": "2025-04-08T20:04:36.259210Z",
     "iopub.status.idle": "2025-04-08T20:04:36.264163Z",
     "shell.execute_reply": "2025-04-08T20:04:36.262938Z"
    },
    "papermill": {
     "duration": 0.042633,
     "end_time": "2025-04-08T20:04:36.266376",
     "exception": false,
     "start_time": "2025-04-08T20:04:36.223743",
     "status": "completed"
    },
    "tags": []
   },
   "outputs": [],
   "source": [
    "# we can clearly see this rating column needs to be cleaned\n",
    "# coulumn having ratings Get, Free, ₹99 ,₹70, ₹2.99,₹68.99,₹65, ₹100  will be filled with rating nan   "
   ]
  },
  {
   "cell_type": "code",
   "execution_count": null,
   "id": "96734c1f",
   "metadata": {
    "execution": {
     "iopub.execute_input": "2025-04-08T20:04:36.332173Z",
     "iopub.status.busy": "2025-04-08T20:04:36.331787Z",
     "iopub.status.idle": "2025-04-08T20:04:36.500147Z",
     "shell.execute_reply": "2025-04-08T20:04:36.499049Z"
    },
    "papermill": {
     "duration": 0.204032,
     "end_time": "2025-04-08T20:04:36.502655",
     "exception": false,
     "start_time": "2025-04-08T20:04:36.298623",
     "status": "completed"
    },
    "tags": []
   },
   "outputs": [],
   "source": [
    "data['ratings']=data['ratings'].replace(to_replace=['Get','FREE','₹99','₹70','₹2.99','₹68.99','₹65','₹100'],value=np.nan)"
   ]
  },
  {
   "cell_type": "code",
   "execution_count": null,
   "id": "75be6946",
   "metadata": {
    "execution": {
     "iopub.execute_input": "2025-04-08T20:04:36.568283Z",
     "iopub.status.busy": "2025-04-08T20:04:36.567906Z",
     "iopub.status.idle": "2025-04-08T20:04:36.572570Z",
     "shell.execute_reply": "2025-04-08T20:04:36.571354Z"
    },
    "papermill": {
     "duration": 0.039849,
     "end_time": "2025-04-08T20:04:36.574698",
     "exception": false,
     "start_time": "2025-04-08T20:04:36.534849",
     "status": "completed"
    },
    "scrolled": true,
    "tags": []
   },
   "outputs": [],
   "source": [
    "# remove # and run the following command\n",
    "#data['ratings'].value_counts()"
   ]
  },
  {
   "cell_type": "code",
   "execution_count": null,
   "id": "5259b2b9",
   "metadata": {
    "execution": {
     "iopub.execute_input": "2025-04-08T20:04:36.644220Z",
     "iopub.status.busy": "2025-04-08T20:04:36.643818Z",
     "iopub.status.idle": "2025-04-08T20:04:36.698833Z",
     "shell.execute_reply": "2025-04-08T20:04:36.697778Z"
    },
    "papermill": {
     "duration": 0.092473,
     "end_time": "2025-04-08T20:04:36.701315",
     "exception": false,
     "start_time": "2025-04-08T20:04:36.608842",
     "status": "completed"
    },
    "tags": []
   },
   "outputs": [],
   "source": [
    "data['ratings']=data['ratings'].astype('float')"
   ]
  },
  {
   "cell_type": "code",
   "execution_count": null,
   "id": "c2192d90",
   "metadata": {
    "execution": {
     "iopub.execute_input": "2025-04-08T20:04:36.768943Z",
     "iopub.status.busy": "2025-04-08T20:04:36.768557Z",
     "iopub.status.idle": "2025-04-08T20:04:36.776314Z",
     "shell.execute_reply": "2025-04-08T20:04:36.775339Z"
    },
    "papermill": {
     "duration": 0.044437,
     "end_time": "2025-04-08T20:04:36.778503",
     "exception": false,
     "start_time": "2025-04-08T20:04:36.734066",
     "status": "completed"
    },
    "tags": []
   },
   "outputs": [],
   "source": [
    "data['ratings']=data['ratings'].round(2)"
   ]
  },
  {
   "cell_type": "markdown",
   "id": "acd10486",
   "metadata": {
    "papermill": {
     "duration": 0.032844,
     "end_time": "2025-04-08T20:04:36.843453",
     "exception": false,
     "start_time": "2025-04-08T20:04:36.810609",
     "status": "completed"
    },
    "tags": []
   },
   "source": [
    "\n",
    " \n",
    " <div style=\"background-color: #e7f3fe; \n",
    "            padding: 20px; \n",
    "            font: bold 18px Arial; \n",
    "            color: #31708f; \n",
    "            border: 2px solid #bce8f1; \n",
    "            border-radius: 8px;\">\n",
    "Preprocessing main_category column\n",
    "</div>"
   ]
  },
  {
   "cell_type": "code",
   "execution_count": null,
   "id": "3babd7b4",
   "metadata": {
    "execution": {
     "iopub.execute_input": "2025-04-08T20:04:36.909353Z",
     "iopub.status.busy": "2025-04-08T20:04:36.909004Z",
     "iopub.status.idle": "2025-04-08T20:04:36.954164Z",
     "shell.execute_reply": "2025-04-08T20:04:36.953056Z"
    },
    "papermill": {
     "duration": 0.080826,
     "end_time": "2025-04-08T20:04:36.956405",
     "exception": false,
     "start_time": "2025-04-08T20:04:36.875579",
     "status": "completed"
    },
    "tags": []
   },
   "outputs": [],
   "source": [
    "data['main_category'].value_counts()"
   ]
  },
  {
   "cell_type": "markdown",
   "id": "7c1752fe",
   "metadata": {
    "papermill": {
     "duration": 0.03373,
     "end_time": "2025-04-08T20:04:37.022674",
     "exception": false,
     "start_time": "2025-04-08T20:04:36.988944",
     "status": "completed"
    },
    "tags": []
   },
   "source": [
    "\n",
    " \n",
    "  <div style=\"background-color: #e7f3fe; \n",
    "            padding: 20px; \n",
    "            font: bold 18px Arial; \n",
    "            color: #31708f; \n",
    "            border: 2px solid #bce8f1; \n",
    "            border-radius: 8px;\">\n",
    "Preprocessing sub_category column\n",
    "</div>"
   ]
  },
  {
   "cell_type": "code",
   "execution_count": null,
   "id": "837b6846",
   "metadata": {
    "execution": {
     "iopub.execute_input": "2025-04-08T20:04:37.091867Z",
     "iopub.status.busy": "2025-04-08T20:04:37.091466Z",
     "iopub.status.idle": "2025-04-08T20:04:37.130352Z",
     "shell.execute_reply": "2025-04-08T20:04:37.129307Z"
    },
    "papermill": {
     "duration": 0.077084,
     "end_time": "2025-04-08T20:04:37.132517",
     "exception": false,
     "start_time": "2025-04-08T20:04:37.055433",
     "status": "completed"
    },
    "tags": []
   },
   "outputs": [],
   "source": [
    "data['sub_category'].value_counts()"
   ]
  },
  {
   "cell_type": "code",
   "execution_count": null,
   "id": "92aa79f5",
   "metadata": {
    "execution": {
     "iopub.execute_input": "2025-04-08T20:04:37.201935Z",
     "iopub.status.busy": "2025-04-08T20:04:37.201541Z",
     "iopub.status.idle": "2025-04-08T20:04:37.239807Z",
     "shell.execute_reply": "2025-04-08T20:04:37.238632Z"
    },
    "papermill": {
     "duration": 0.075254,
     "end_time": "2025-04-08T20:04:37.242245",
     "exception": false,
     "start_time": "2025-04-08T20:04:37.166991",
     "status": "completed"
    },
    "scrolled": true,
    "tags": []
   },
   "outputs": [],
   "source": [
    "# Adjust display options\n",
    "pd.set_option('display.max_rows', None)  # Show all rows for value_counts()\n",
    "\n",
    "# View all value counts for 'no_of_ratings'\n",
    "print(data['sub_category'].value_counts())"
   ]
  },
  {
   "cell_type": "code",
   "execution_count": null,
   "id": "1bed66e7",
   "metadata": {
    "execution": {
     "iopub.execute_input": "2025-04-08T20:04:37.311289Z",
     "iopub.status.busy": "2025-04-08T20:04:37.310930Z",
     "iopub.status.idle": "2025-04-08T20:04:37.478228Z",
     "shell.execute_reply": "2025-04-08T20:04:37.477048Z"
    },
    "papermill": {
     "duration": 0.205495,
     "end_time": "2025-04-08T20:04:37.481086",
     "exception": false,
     "start_time": "2025-04-08T20:04:37.275591",
     "status": "completed"
    },
    "tags": []
   },
   "outputs": [],
   "source": [
    "# Clean and normalize the subcategory column\n",
    "data['sub_category'] = data['sub_category'].str.strip().str.lower()"
   ]
  },
  {
   "cell_type": "code",
   "execution_count": null,
   "id": "c9abe9d9",
   "metadata": {
    "execution": {
     "iopub.execute_input": "2025-04-08T20:04:37.550394Z",
     "iopub.status.busy": "2025-04-08T20:04:37.550030Z",
     "iopub.status.idle": "2025-04-08T20:04:37.595334Z",
     "shell.execute_reply": "2025-04-08T20:04:37.594107Z"
    },
    "papermill": {
     "duration": 0.082192,
     "end_time": "2025-04-08T20:04:37.597990",
     "exception": false,
     "start_time": "2025-04-08T20:04:37.515798",
     "status": "completed"
    },
    "tags": []
   },
   "outputs": [],
   "source": [
    "data['sub_category'].nunique()"
   ]
  },
  {
   "cell_type": "code",
   "execution_count": null,
   "id": "765aaa67",
   "metadata": {
    "execution": {
     "iopub.execute_input": "2025-04-08T20:04:37.666717Z",
     "iopub.status.busy": "2025-04-08T20:04:37.666277Z",
     "iopub.status.idle": "2025-04-08T20:04:37.671187Z",
     "shell.execute_reply": "2025-04-08T20:04:37.669806Z"
    },
    "papermill": {
     "duration": 0.042309,
     "end_time": "2025-04-08T20:04:37.673430",
     "exception": false,
     "start_time": "2025-04-08T20:04:37.631121",
     "status": "completed"
    },
    "tags": []
   },
   "outputs": [],
   "source": [
    "# we have so many subcategory so we are grouping this"
   ]
  },
  {
   "cell_type": "code",
   "execution_count": null,
   "id": "ab4fd510",
   "metadata": {
    "execution": {
     "iopub.execute_input": "2025-04-08T20:04:37.741912Z",
     "iopub.status.busy": "2025-04-08T20:04:37.741533Z",
     "iopub.status.idle": "2025-04-08T20:04:37.846136Z",
     "shell.execute_reply": "2025-04-08T20:04:37.845025Z"
    },
    "papermill": {
     "duration": 0.141405,
     "end_time": "2025-04-08T20:04:37.848600",
     "exception": false,
     "start_time": "2025-04-08T20:04:37.707195",
     "status": "completed"
    },
    "tags": []
   },
   "outputs": [],
   "source": [
    "counts=data['sub_category'].value_counts()\n",
    "uncommon_category=counts[counts<1300].index\n",
    "data['sub_category'] = np.where(data['sub_category'].isin(uncommon_category), 'uncommon mix category', data['sub_category'])\n"
   ]
  },
  {
   "cell_type": "code",
   "execution_count": null,
   "id": "69be7756",
   "metadata": {
    "execution": {
     "iopub.execute_input": "2025-04-08T20:04:37.921172Z",
     "iopub.status.busy": "2025-04-08T20:04:37.920733Z",
     "iopub.status.idle": "2025-04-08T20:04:40.493132Z",
     "shell.execute_reply": "2025-04-08T20:04:40.491761Z"
    },
    "papermill": {
     "duration": 2.612593,
     "end_time": "2025-04-08T20:04:40.495754",
     "exception": false,
     "start_time": "2025-04-08T20:04:37.883161",
     "status": "completed"
    },
    "tags": []
   },
   "outputs": [],
   "source": [
    "data['sub_category'] = np.where(data['sub_category'].str.contains('shoe|sandals|ballerinas|foot'), 'footwear', data['sub_category'])\n",
    "data['sub_category'] = np.where(data['sub_category'].str.contains('bag|backpack|sack'), 'bags', data['sub_category'])\n",
    "data['sub_category'] = np.where(data['sub_category'].str.contains('nightwear|lingerie|innerwear'), 'Innerwear', data['sub_category'])\n",
    "data['sub_category'] = np.where(data['sub_category'].str.contains('nightwear|camping|strength|lingerie|running|sports|football|cricket|badminton|fitness|diet|cycling|yoga'), 'Sports', data['sub_category'])\n",
    "data['sub_category'] = np.where(data['sub_category'].str.contains('toy|pram'), 'toys', data['sub_category'])\n",
    "data['sub_category'] = np.where(data['sub_category'].str.contains('speakers|headphones|appliances|televisions|system|electronics|camera|refrigerators|washing|machines|theater|air conditioners'), 'Electronics', data['sub_category'])\n",
    "data['sub_category'] = np.where(data['sub_category'].str.contains('home|kitchen|room|dine|house|indoor|furniture|sewing'), 'Home and Kitchen', data['sub_category'])\n",
    "data['sub_category'] = np.where(data['sub_category'].str.contains('kid|baby|diaper'), 'Kids', data['sub_category'])\n",
    "data['sub_category'] = np.where(data['sub_category'].str.contains('beauty|make-up|personal care'), 'Cosmetics', data['sub_category'])"
   ]
  },
  {
   "cell_type": "code",
   "execution_count": null,
   "id": "3235ba04",
   "metadata": {
    "execution": {
     "iopub.execute_input": "2025-04-08T20:04:40.567833Z",
     "iopub.status.busy": "2025-04-08T20:04:40.567480Z",
     "iopub.status.idle": "2025-04-08T20:04:40.609340Z",
     "shell.execute_reply": "2025-04-08T20:04:40.608199Z"
    },
    "papermill": {
     "duration": 0.08082,
     "end_time": "2025-04-08T20:04:40.612061",
     "exception": false,
     "start_time": "2025-04-08T20:04:40.531241",
     "status": "completed"
    },
    "tags": []
   },
   "outputs": [],
   "source": [
    "data['sub_category'].value_counts()"
   ]
  },
  {
   "cell_type": "code",
   "execution_count": null,
   "id": "f71a4f34",
   "metadata": {
    "execution": {
     "iopub.execute_input": "2025-04-08T20:04:40.684882Z",
     "iopub.status.busy": "2025-04-08T20:04:40.684499Z",
     "iopub.status.idle": "2025-04-08T20:04:40.725087Z",
     "shell.execute_reply": "2025-04-08T20:04:40.724017Z"
    },
    "papermill": {
     "duration": 0.07885,
     "end_time": "2025-04-08T20:04:40.727373",
     "exception": false,
     "start_time": "2025-04-08T20:04:40.648523",
     "status": "completed"
    },
    "tags": []
   },
   "outputs": [],
   "source": [
    "data['sub_category'].nunique()"
   ]
  },
  {
   "cell_type": "code",
   "execution_count": null,
   "id": "0782e980",
   "metadata": {
    "execution": {
     "iopub.execute_input": "2025-04-08T20:04:42.681499Z",
     "iopub.status.busy": "2025-04-08T20:04:42.681113Z",
     "iopub.status.idle": "2025-04-08T20:04:42.689226Z",
     "shell.execute_reply": "2025-04-08T20:04:42.688130Z"
    },
    "papermill": {
     "duration": 0.048666,
     "end_time": "2025-04-08T20:04:42.691885",
     "exception": false,
     "start_time": "2025-04-08T20:04:42.643219",
     "status": "completed"
    },
    "tags": []
   },
   "outputs": [],
   "source": [
    "data.dtypes"
   ]
  },
  {
   "cell_type": "markdown",
   "id": "7eca9275",
   "metadata": {
    "_kg_hide-input": true,
    "_kg_hide-output": true,
    "papermill": {
     "duration": 0.090755,
     "end_time": "2025-04-08T20:07:58.990860",
     "exception": false,
     "start_time": "2025-04-08T20:07:58.900105",
     "status": "completed"
    },
    "tags": []
   },
   "source": [
    "# Handling Outliers"
   ]
  },
  {
   "cell_type": "code",
   "execution_count": null,
   "id": "376d335b",
   "metadata": {
    "execution": {
     "iopub.execute_input": "2025-04-08T20:07:59.366066Z",
     "iopub.status.busy": "2025-04-08T20:07:59.365552Z",
     "iopub.status.idle": "2025-04-08T20:07:59.372476Z",
     "shell.execute_reply": "2025-04-08T20:07:59.371374Z"
    },
    "papermill": {
     "duration": 0.105836,
     "end_time": "2025-04-08T20:07:59.374522",
     "exception": false,
     "start_time": "2025-04-08T20:07:59.268686",
     "status": "completed"
    },
    "tags": []
   },
   "outputs": [],
   "source": [
    "def handle_outlier(data,column):\n",
    "    sns.boxplot(data[column])\n",
    "    plt.title(\"outlier detection\")\n",
    "    plt.show()\n",
    "    q1=data[column].quantile(0.25)\n",
    "    q3=data[column].quantile(0.75)\n",
    "    iqr=q3-q1\n",
    "    upper_limit= q3+1.5*iqr\n",
    "    lower_limit=q1-1.5*iqr\n",
    "\n",
    "    data[column]=np.where(\n",
    "        data[column]>upper_limit, upper_limit, np.where(data[column]<lower_limit,lower_limit,data[column])\n",
    "    )\n",
    "    \n",
    "    sns.boxplot(data[column])\n",
    "    plt.title(\"outliers removed\") \n",
    "    plt.show()"
   ]
  },
  {
   "cell_type": "code",
   "execution_count": null,
   "id": "b1d9cdf5",
   "metadata": {
    "execution": {
     "iopub.execute_input": "2025-04-08T20:07:59.561799Z",
     "iopub.status.busy": "2025-04-08T20:07:59.561423Z",
     "iopub.status.idle": "2025-04-08T20:07:59.978620Z",
     "shell.execute_reply": "2025-04-08T20:07:59.977389Z"
    },
    "papermill": {
     "duration": 0.51422,
     "end_time": "2025-04-08T20:07:59.982646",
     "exception": false,
     "start_time": "2025-04-08T20:07:59.468426",
     "status": "completed"
    },
    "tags": []
   },
   "outputs": [],
   "source": [
    "handle_outlier(data,'ratings')"
   ]
  },
  {
   "cell_type": "code",
   "execution_count": null,
   "id": "169bc9b7",
   "metadata": {
    "execution": {
     "iopub.execute_input": "2025-04-08T20:08:00.174349Z",
     "iopub.status.busy": "2025-04-08T20:08:00.173704Z",
     "iopub.status.idle": "2025-04-08T20:08:00.180112Z",
     "shell.execute_reply": "2025-04-08T20:08:00.178693Z"
    },
    "papermill": {
     "duration": 0.103057,
     "end_time": "2025-04-08T20:08:00.182576",
     "exception": false,
     "start_time": "2025-04-08T20:08:00.079519",
     "status": "completed"
    },
    "tags": []
   },
   "outputs": [],
   "source": [
    "#handle_outlier(data,'no_of_ratings')"
   ]
  },
  {
   "cell_type": "code",
   "execution_count": null,
   "id": "6ca149e6",
   "metadata": {
    "execution": {
     "iopub.execute_input": "2025-04-08T20:08:00.383078Z",
     "iopub.status.busy": "2025-04-08T20:08:00.382644Z",
     "iopub.status.idle": "2025-04-08T20:08:00.388122Z",
     "shell.execute_reply": "2025-04-08T20:08:00.386698Z"
    },
    "papermill": {
     "duration": 0.109754,
     "end_time": "2025-04-08T20:08:00.391907",
     "exception": false,
     "start_time": "2025-04-08T20:08:00.282153",
     "status": "completed"
    },
    "tags": []
   },
   "outputs": [],
   "source": [
    "#handle_outlier(data,'discount_price')"
   ]
  },
  {
   "cell_type": "markdown",
   "id": "0916f43f",
   "metadata": {
    "papermill": {
     "duration": 0.097388,
     "end_time": "2025-04-08T20:08:00.587670",
     "exception": false,
     "start_time": "2025-04-08T20:08:00.490282",
     "status": "completed"
    },
    "tags": []
   },
   "source": [
    "##### Clearly 75% and max value for no_of_ratings  and discount_price has too much difference so we should not remove our outliers for these features.\n",
    "##### Moreover, outliers of these columns are important from analysis point of view. "
   ]
  },
  {
   "cell_type": "markdown",
   "id": "f62894e9",
   "metadata": {
    "_kg_hide-input": true,
    "_kg_hide-output": true,
    "papermill": {
     "duration": 0.092404,
     "end_time": "2025-04-08T20:08:01.361083",
     "exception": false,
     "start_time": "2025-04-08T20:08:01.268679",
     "status": "completed"
    },
    "tags": []
   },
   "source": [
    "# Descriptive Statistics "
   ]
  },
  {
   "cell_type": "markdown",
   "id": "04ef13a4",
   "metadata": {
    "papermill": {
     "duration": 0.092021,
     "end_time": "2025-04-08T20:08:01.545497",
     "exception": false,
     "start_time": "2025-04-08T20:08:01.453476",
     "status": "completed"
    },
    "tags": []
   },
   "source": [
    "\n",
    "<h3 style = \"background-color: #111;\n",
    "             padding: 15px;\n",
    "             font: bold 22px arial;\n",
    "             color: lightgreen;\n",
    "             border: 2px solid lime;\n",
    "             border-radius: 8px\">\n",
    " 1) Descriptive Statistics 📉📊📈📘</h3>"
   ]
  },
  {
   "cell_type": "code",
   "execution_count": null,
   "id": "688288d4",
   "metadata": {
    "execution": {
     "iopub.execute_input": "2025-04-08T20:08:01.737155Z",
     "iopub.status.busy": "2025-04-08T20:08:01.735953Z",
     "iopub.status.idle": "2025-04-08T20:08:01.854236Z",
     "shell.execute_reply": "2025-04-08T20:08:01.853200Z"
    },
    "papermill": {
     "duration": 0.218872,
     "end_time": "2025-04-08T20:08:01.856526",
     "exception": false,
     "start_time": "2025-04-08T20:08:01.637654",
     "status": "completed"
    },
    "tags": []
   },
   "outputs": [],
   "source": [
    "np.round(data.describe(),2)"
   ]
  },
  {
   "cell_type": "markdown",
   "id": "db21783f",
   "metadata": {
    "papermill": {
     "duration": 0.097804,
     "end_time": "2025-04-08T20:08:02.050604",
     "exception": false,
     "start_time": "2025-04-08T20:08:01.952800",
     "status": "completed"
    },
    "tags": []
   },
   "source": [
    " "
   ]
  },
  {
   "cell_type": "markdown",
   "id": "30eaee94",
   "metadata": {
    "_kg_hide-input": true,
    "_kg_hide-output": true,
    "papermill": {
     "duration": 0.117052,
     "end_time": "2025-04-08T20:08:02.265626",
     "exception": false,
     "start_time": "2025-04-08T20:08:02.148574",
     "status": "completed"
    },
    "tags": []
   },
   "source": [
    "# Discount Analysis"
   ]
  },
  {
   "cell_type": "markdown",
   "id": "0e21ef97",
   "metadata": {
    "papermill": {
     "duration": 0.093075,
     "end_time": "2025-04-08T20:08:02.455252",
     "exception": false,
     "start_time": "2025-04-08T20:08:02.362177",
     "status": "completed"
    },
    "tags": []
   },
   "source": []
  },
  {
   "cell_type": "markdown",
   "id": "c5c17f05",
   "metadata": {
    "papermill": {
     "duration": 0.092954,
     "end_time": "2025-04-08T20:08:02.640860",
     "exception": false,
     "start_time": "2025-04-08T20:08:02.547906",
     "status": "completed"
    },
    "tags": []
   },
   "source": [
    " "
   ]
  },
  {
   "cell_type": "markdown",
   "id": "f64cf753",
   "metadata": {
    "papermill": {
     "duration": 0.093129,
     "end_time": "2025-04-08T20:08:02.829064",
     "exception": false,
     "start_time": "2025-04-08T20:08:02.735935",
     "status": "completed"
    },
    "tags": []
   },
   "source": [
    "\n",
    "<h3 style = \"background-color: #111;\n",
    "             padding: 15px;\n",
    "             font: bold 22px arial;\n",
    "             color: lightgreen;\n",
    "             border: 2px solid lime;\n",
    "             border-radius: 8px\">\n",
    " 2) Discount Analysis 🛒</h3>"
   ]
  },
  {
   "cell_type": "markdown",
   "id": "b6a5efa8",
   "metadata": {
    "papermill": {
     "duration": 0.094653,
     "end_time": "2025-04-08T20:08:03.017152",
     "exception": false,
     "start_time": "2025-04-08T20:08:02.922499",
     "status": "completed"
    },
    "tags": []
   },
   "source": [
    "#### 2a) Overall Average discount"
   ]
  },
  {
   "cell_type": "code",
   "execution_count": null,
   "id": "a65a4fd2",
   "metadata": {
    "execution": {
     "iopub.execute_input": "2025-04-08T20:08:03.209898Z",
     "iopub.status.busy": "2025-04-08T20:08:03.209394Z",
     "iopub.status.idle": "2025-04-08T20:08:03.218301Z",
     "shell.execute_reply": "2025-04-08T20:08:03.217072Z"
    },
    "papermill": {
     "duration": 0.10916,
     "end_time": "2025-04-08T20:08:03.220741",
     "exception": false,
     "start_time": "2025-04-08T20:08:03.111581",
     "status": "completed"
    },
    "tags": []
   },
   "outputs": [],
   "source": [
    "average_discount=np.mean(data['actual_price']-data['discount_price'])"
   ]
  },
  {
   "cell_type": "code",
   "execution_count": null,
   "id": "0c996232",
   "metadata": {
    "execution": {
     "iopub.execute_input": "2025-04-08T20:08:03.412681Z",
     "iopub.status.busy": "2025-04-08T20:08:03.412319Z",
     "iopub.status.idle": "2025-04-08T20:08:03.418518Z",
     "shell.execute_reply": "2025-04-08T20:08:03.417024Z"
    },
    "papermill": {
     "duration": 0.105066,
     "end_time": "2025-04-08T20:08:03.420869",
     "exception": false,
     "start_time": "2025-04-08T20:08:03.315803",
     "status": "completed"
    },
    "tags": []
   },
   "outputs": [],
   "source": [
    "print(\"Average discount given is \",np.round(average_discount,3))"
   ]
  },
  {
   "cell_type": "code",
   "execution_count": null,
   "id": "eaf9772a",
   "metadata": {
    "execution": {
     "iopub.execute_input": "2025-04-08T20:08:03.634730Z",
     "iopub.status.busy": "2025-04-08T20:08:03.633897Z",
     "iopub.status.idle": "2025-04-08T20:08:03.650069Z",
     "shell.execute_reply": "2025-04-08T20:08:03.648925Z"
    },
    "papermill": {
     "duration": 0.122115,
     "end_time": "2025-04-08T20:08:03.652628",
     "exception": false,
     "start_time": "2025-04-08T20:08:03.530513",
     "status": "completed"
    },
    "tags": []
   },
   "outputs": [],
   "source": [
    "# Calculate the discount amount and percentage\n",
    "data['discount_amount'] = data['actual_price'] - data['discount_price']\n",
    "data['discount_percentage'] = (data['discount_amount'] / data['actual_price']) * 100"
   ]
  },
  {
   "cell_type": "markdown",
   "id": "f39e8438",
   "metadata": {
    "papermill": {
     "duration": 0.098429,
     "end_time": "2025-04-08T20:08:03.853991",
     "exception": false,
     "start_time": "2025-04-08T20:08:03.755562",
     "status": "completed"
    },
    "tags": []
   },
   "source": [
    "#### 2b) Average discount across categories"
   ]
  },
  {
   "cell_type": "code",
   "execution_count": null,
   "id": "c3875c42",
   "metadata": {
    "execution": {
     "iopub.execute_input": "2025-04-08T20:08:04.049273Z",
     "iopub.status.busy": "2025-04-08T20:08:04.048862Z",
     "iopub.status.idle": "2025-04-08T20:08:04.067563Z",
     "shell.execute_reply": "2025-04-08T20:08:04.066468Z"
    },
    "papermill": {
     "duration": 0.118507,
     "end_time": "2025-04-08T20:08:04.070037",
     "exception": false,
     "start_time": "2025-04-08T20:08:03.951530",
     "status": "completed"
    },
    "tags": []
   },
   "outputs": [],
   "source": [
    "data.loc[data['discount_percentage']==-np.inf]"
   ]
  },
  {
   "cell_type": "code",
   "execution_count": null,
   "id": "0104d70e",
   "metadata": {
    "execution": {
     "iopub.execute_input": "2025-04-08T20:08:04.263530Z",
     "iopub.status.busy": "2025-04-08T20:08:04.263137Z",
     "iopub.status.idle": "2025-04-08T20:08:04.267906Z",
     "shell.execute_reply": "2025-04-08T20:08:04.266835Z"
    },
    "papermill": {
     "duration": 0.10324,
     "end_time": "2025-04-08T20:08:04.270169",
     "exception": false,
     "start_time": "2025-04-08T20:08:04.166929",
     "status": "completed"
    },
    "tags": []
   },
   "outputs": [],
   "source": [
    "#note that since actual_price is zero.\n",
    "#discount_percentage is getting infinity"
   ]
  },
  {
   "cell_type": "code",
   "execution_count": null,
   "id": "d2d76172",
   "metadata": {
    "execution": {
     "iopub.execute_input": "2025-04-08T20:08:04.466805Z",
     "iopub.status.busy": "2025-04-08T20:08:04.466399Z",
     "iopub.status.idle": "2025-04-08T20:08:04.483664Z",
     "shell.execute_reply": "2025-04-08T20:08:04.482485Z"
    },
    "papermill": {
     "duration": 0.118365,
     "end_time": "2025-04-08T20:08:04.486041",
     "exception": false,
     "start_time": "2025-04-08T20:08:04.367676",
     "status": "completed"
    },
    "tags": []
   },
   "outputs": [],
   "source": [
    "# Handle infinity\n",
    "data['discount_percentage'] = data['discount_percentage'].replace([np.inf, -np.inf], 0)\n",
    "# discount_percentage below 0 are set to 0. \n",
    "data['discount_percentage'] = data['discount_percentage'].clip(lower=0)\n"
   ]
  },
  {
   "cell_type": "code",
   "execution_count": null,
   "id": "3a47d881",
   "metadata": {
    "execution": {
     "iopub.execute_input": "2025-04-08T20:08:04.686486Z",
     "iopub.status.busy": "2025-04-08T20:08:04.686060Z",
     "iopub.status.idle": "2025-04-08T20:08:04.693992Z",
     "shell.execute_reply": "2025-04-08T20:08:04.692782Z"
    },
    "papermill": {
     "duration": 0.112365,
     "end_time": "2025-04-08T20:08:04.696306",
     "exception": false,
     "start_time": "2025-04-08T20:08:04.583941",
     "status": "completed"
    },
    "tags": []
   },
   "outputs": [],
   "source": [
    "overall_average_discount_percentage=np.mean(data['discount_percentage'] )\n",
    "print(\"Overall Average Discount Percentage is \",np.round(overall_average_discount_percentage,2))"
   ]
  },
  {
   "cell_type": "code",
   "execution_count": null,
   "id": "0959684f",
   "metadata": {
    "execution": {
     "iopub.execute_input": "2025-04-08T20:08:04.891897Z",
     "iopub.status.busy": "2025-04-08T20:08:04.891374Z",
     "iopub.status.idle": "2025-04-08T20:08:04.953435Z",
     "shell.execute_reply": "2025-04-08T20:08:04.952246Z"
    },
    "papermill": {
     "duration": 0.162147,
     "end_time": "2025-04-08T20:08:04.955833",
     "exception": false,
     "start_time": "2025-04-08T20:08:04.793686",
     "status": "completed"
    },
    "tags": []
   },
   "outputs": [],
   "source": [
    "discount_analysis_main_category = data.groupby(['main_category']).agg({\n",
    "    'discount_amount': 'mean',\n",
    "    'discount_percentage': 'mean'\n",
    "}).round(2)\n",
    "discount_analysis_main_category"
   ]
  },
  {
   "cell_type": "code",
   "execution_count": null,
   "id": "4edf7dc6",
   "metadata": {
    "execution": {
     "iopub.execute_input": "2025-04-08T20:08:05.156803Z",
     "iopub.status.busy": "2025-04-08T20:08:05.156385Z",
     "iopub.status.idle": "2025-04-08T20:08:09.353060Z",
     "shell.execute_reply": "2025-04-08T20:08:09.351836Z"
    },
    "papermill": {
     "duration": 4.30033,
     "end_time": "2025-04-08T20:08:09.356010",
     "exception": false,
     "start_time": "2025-04-08T20:08:05.055680",
     "status": "completed"
    },
    "tags": []
   },
   "outputs": [],
   "source": [
    "# Reset index for easier plotting\n",
    "discount_analysis_main_category_reset = discount_analysis_main_category.reset_index()\n",
    "\n",
    "# Plotting using seaborn barplot\n",
    "plt.figure(figsize=(12, 6))\n",
    "bars=sns.barplot(y=discount_analysis_main_category_reset['discount_percentage'], x=discount_analysis_main_category_reset['main_category'] ,hue=discount_analysis_main_category_reset['main_category'] \n",
    "            ,palette='summer')\n",
    "\n",
    "# Add labels to the bars\n",
    "for bar in bars.containers:\n",
    "    bars.bar_label(bar, fmt='%.2f%%', fontsize=11.2, color='black')\n",
    "\n",
    "\n",
    "plt.title('Discount distribution across Main Category',fontsize=15)\n",
    "plt.xlabel('Mean Discount Percentage',fontsize=10)\n",
    "plt.ylabel('Main category',fontsize=10)\n",
    "plt.xticks(rotation=90,fontsize=10)\n",
    "plt.tight_layout()\n",
    "\n",
    "plt.show()"
   ]
  },
  {
   "cell_type": "markdown",
   "id": "7abff9e4",
   "metadata": {
    "papermill": {
     "duration": 0.103999,
     "end_time": "2025-04-08T20:08:09.560311",
     "exception": false,
     "start_time": "2025-04-08T20:08:09.456312",
     "status": "completed"
    },
    "tags": []
   },
   "source": [
    "##### Minimum discount is given to \"home, kitchen pets category\" ,namely 20.09%"
   ]
  },
  {
   "cell_type": "markdown",
   "id": "3b03c082",
   "metadata": {
    "papermill": {
     "duration": 0.099004,
     "end_time": "2025-04-08T20:08:09.759875",
     "exception": false,
     "start_time": "2025-04-08T20:08:09.660871",
     "status": "completed"
    },
    "tags": []
   },
   "source": [
    "##### Maximum discount is given to women's clothing, namely 57.98%"
   ]
  },
  {
   "cell_type": "code",
   "execution_count": null,
   "id": "eef70df7",
   "metadata": {
    "execution": {
     "iopub.execute_input": "2025-04-08T20:08:09.961517Z",
     "iopub.status.busy": "2025-04-08T20:08:09.961117Z",
     "iopub.status.idle": "2025-04-08T20:08:10.056044Z",
     "shell.execute_reply": "2025-04-08T20:08:10.054803Z"
    },
    "papermill": {
     "duration": 0.198289,
     "end_time": "2025-04-08T20:08:10.058520",
     "exception": false,
     "start_time": "2025-04-08T20:08:09.860231",
     "status": "completed"
    },
    "tags": []
   },
   "outputs": [],
   "source": [
    "discount_analysis = data.groupby(['main_category', 'sub_category']).agg({\n",
    "    'discount_amount': 'mean',\n",
    "    'discount_percentage': 'mean'\n",
    "}).round(2).sort_values(by=['discount_percentage'])"
   ]
  },
  {
   "cell_type": "code",
   "execution_count": null,
   "id": "51eb273d",
   "metadata": {
    "execution": {
     "iopub.execute_input": "2025-04-08T20:08:10.258719Z",
     "iopub.status.busy": "2025-04-08T20:08:10.258318Z",
     "iopub.status.idle": "2025-04-08T20:08:10.277697Z",
     "shell.execute_reply": "2025-04-08T20:08:10.276312Z"
    },
    "papermill": {
     "duration": 0.121075,
     "end_time": "2025-04-08T20:08:10.280205",
     "exception": false,
     "start_time": "2025-04-08T20:08:10.159130",
     "status": "completed"
    },
    "tags": []
   },
   "outputs": [],
   "source": [
    "discount_analysis"
   ]
  },
  {
   "cell_type": "markdown",
   "id": "7ae5a9f2",
   "metadata": {
    "papermill": {
     "duration": 0.09762,
     "end_time": "2025-04-08T20:08:10.478347",
     "exception": false,
     "start_time": "2025-04-08T20:08:10.380727",
     "status": "completed"
    },
    "tags": []
   },
   "source": [
    ">\n",
    "##### minimum discount of 20.09% is given to \"home, kitchen, pets\" section, specifically to uncommon category"
   ]
  },
  {
   "cell_type": "markdown",
   "id": "b1a1957b",
   "metadata": {
    "papermill": {
     "duration": 0.100021,
     "end_time": "2025-04-08T20:08:10.675321",
     "exception": false,
     "start_time": "2025-04-08T20:08:10.575300",
     "status": "completed"
    },
    "tags": []
   },
   "source": [
    ">\n",
    "##### maximum discount of 64.76% is given to \"accessories\" section specifically to \"fashion & silver jewellery\""
   ]
  },
  {
   "cell_type": "markdown",
   "id": "f87cc086",
   "metadata": {
    "papermill": {
     "duration": 0.099458,
     "end_time": "2025-04-08T20:08:10.878000",
     "exception": false,
     "start_time": "2025-04-08T20:08:10.778542",
     "status": "completed"
    },
    "tags": []
   },
   "source": [
    "#### 2c) Correlation between 'discount_price' and 'actual_price'"
   ]
  },
  {
   "cell_type": "code",
   "execution_count": null,
   "id": "c37cf185",
   "metadata": {
    "execution": {
     "iopub.execute_input": "2025-04-08T20:08:11.079037Z",
     "iopub.status.busy": "2025-04-08T20:08:11.078599Z",
     "iopub.status.idle": "2025-04-08T20:08:11.093680Z",
     "shell.execute_reply": "2025-04-08T20:08:11.092248Z"
    },
    "papermill": {
     "duration": 0.119265,
     "end_time": "2025-04-08T20:08:11.096131",
     "exception": false,
     "start_time": "2025-04-08T20:08:10.976866",
     "status": "completed"
    },
    "tags": []
   },
   "outputs": [],
   "source": [
    "# Calculate the correlation between 'discount_price' and 'actual_price'\n",
    "correlation = data['discount_price'].corr(data['actual_price'])\n",
    "\n",
    "# Print the result\n",
    "print(f\"The correlation between discount_price and actual_price is: {correlation}\")"
   ]
  },
  {
   "cell_type": "code",
   "execution_count": null,
   "id": "0ff08f61",
   "metadata": {
    "execution": {
     "iopub.execute_input": "2025-04-08T20:08:11.298375Z",
     "iopub.status.busy": "2025-04-08T20:08:11.297936Z",
     "iopub.status.idle": "2025-04-08T20:08:11.579195Z",
     "shell.execute_reply": "2025-04-08T20:08:11.578025Z"
    },
    "papermill": {
     "duration": 0.385822,
     "end_time": "2025-04-08T20:08:11.582070",
     "exception": false,
     "start_time": "2025-04-08T20:08:11.196248",
     "status": "completed"
    },
    "tags": []
   },
   "outputs": [],
   "source": [
    "corr_mat=data[['discount_price' ,'actual_price']].corr()\n",
    "sns.heatmap(corr_mat,annot=True, cmap='summer', fmt='.3f', square=True)"
   ]
  },
  {
   "cell_type": "markdown",
   "id": "7804a2f9",
   "metadata": {
    "papermill": {
     "duration": 0.101663,
     "end_time": "2025-04-08T20:08:11.787118",
     "exception": false,
     "start_time": "2025-04-08T20:08:11.685455",
     "status": "completed"
    },
    "tags": []
   },
   "source": [
    ">\n",
    "##### This shows that correlation between discount_price and actual_price is approximately zero.\n",
    "##### Thus discount_price and actual_price are independent of each other"
   ]
  },
  {
   "cell_type": "markdown",
   "id": "d48090c6",
   "metadata": {
    "papermill": {
     "duration": 0.107962,
     "end_time": "2025-04-08T20:08:12.060520",
     "exception": false,
     "start_time": "2025-04-08T20:08:11.952558",
     "status": "completed"
    },
    "tags": []
   },
   "source": [
    " "
   ]
  },
  {
   "cell_type": "markdown",
   "id": "f1d6b23f",
   "metadata": {
    "_kg_hide-input": true,
    "_kg_hide-output": true,
    "papermill": {
     "duration": 0.119111,
     "end_time": "2025-04-08T20:08:12.285414",
     "exception": false,
     "start_time": "2025-04-08T20:08:12.166303",
     "status": "completed"
    },
    "tags": []
   },
   "source": [
    "# Ratings Analysis"
   ]
  },
  {
   "cell_type": "markdown",
   "id": "cebad294",
   "metadata": {
    "papermill": {
     "duration": 0.100575,
     "end_time": "2025-04-08T20:08:12.488252",
     "exception": false,
     "start_time": "2025-04-08T20:08:12.387677",
     "status": "completed"
    },
    "tags": []
   },
   "source": [
    " "
   ]
  },
  {
   "cell_type": "markdown",
   "id": "4211df40",
   "metadata": {
    "papermill": {
     "duration": 0.102487,
     "end_time": "2025-04-08T20:08:12.693178",
     "exception": false,
     "start_time": "2025-04-08T20:08:12.590691",
     "status": "completed"
    },
    "tags": []
   },
   "source": [
    "\n",
    "\n",
    "<h3 style = \"background-color: #111;\n",
    "             padding: 15px;\n",
    "             font: bold 22px arial;\n",
    "             color: lightgreen;\n",
    "             border: 2px solid lime;\n",
    "             border-radius: 8px\">\n",
    " 3) Ratings Analysis⭐️⭐️⭐️⭐️⭐️ </h3>"
   ]
  },
  {
   "cell_type": "markdown",
   "id": "7d7ded5e",
   "metadata": {
    "papermill": {
     "duration": 0.10008,
     "end_time": "2025-04-08T20:08:12.897360",
     "exception": false,
     "start_time": "2025-04-08T20:08:12.797280",
     "status": "completed"
    },
    "tags": []
   },
   "source": [
    "#### a) Calculate the average rating for each main_category ."
   ]
  },
  {
   "cell_type": "code",
   "execution_count": null,
   "id": "b2cd4c4f",
   "metadata": {
    "execution": {
     "iopub.execute_input": "2025-04-08T20:08:13.104206Z",
     "iopub.status.busy": "2025-04-08T20:08:13.103797Z",
     "iopub.status.idle": "2025-04-08T20:08:13.110782Z",
     "shell.execute_reply": "2025-04-08T20:08:13.109522Z"
    },
    "papermill": {
     "duration": 0.112986,
     "end_time": "2025-04-08T20:08:13.112835",
     "exception": false,
     "start_time": "2025-04-08T20:08:12.999849",
     "status": "completed"
    },
    "tags": []
   },
   "outputs": [],
   "source": [
    "avg_ratings=np.round(data['ratings'].mean(),2)\n",
    "print(\"Overal Average Rating is\",avg_ratings)"
   ]
  },
  {
   "cell_type": "code",
   "execution_count": null,
   "id": "d2a2e3c2",
   "metadata": {
    "execution": {
     "iopub.execute_input": "2025-04-08T20:08:13.328053Z",
     "iopub.status.busy": "2025-04-08T20:08:13.327646Z",
     "iopub.status.idle": "2025-04-08T20:08:13.376086Z",
     "shell.execute_reply": "2025-04-08T20:08:13.374940Z"
    },
    "papermill": {
     "duration": 0.158552,
     "end_time": "2025-04-08T20:08:13.378902",
     "exception": false,
     "start_time": "2025-04-08T20:08:13.220350",
     "status": "completed"
    },
    "tags": []
   },
   "outputs": [],
   "source": [
    "main_category_grouped=data.groupby('main_category')\n",
    "main_category_avg_rating=np.round(main_category_grouped['ratings'].mean(),2)\n",
    "main_category_avg_rating.sort_values(ascending=True)"
   ]
  },
  {
   "cell_type": "markdown",
   "id": "69a6ae74",
   "metadata": {
    "papermill": {
     "duration": 0.104054,
     "end_time": "2025-04-08T20:08:13.587843",
     "exception": false,
     "start_time": "2025-04-08T20:08:13.483789",
     "status": "completed"
    },
    "tags": []
   },
   "source": [
    "#### b) Identify category with the highest and lowest ratings."
   ]
  },
  {
   "cell_type": "code",
   "execution_count": null,
   "id": "b56e0191",
   "metadata": {
    "execution": {
     "iopub.execute_input": "2025-04-08T20:08:13.792821Z",
     "iopub.status.busy": "2025-04-08T20:08:13.792416Z",
     "iopub.status.idle": "2025-04-08T20:08:13.800587Z",
     "shell.execute_reply": "2025-04-08T20:08:13.798710Z"
    },
    "papermill": {
     "duration": 0.114558,
     "end_time": "2025-04-08T20:08:13.802805",
     "exception": false,
     "start_time": "2025-04-08T20:08:13.688247",
     "status": "completed"
    },
    "tags": []
   },
   "outputs": [],
   "source": [
    "# Find the highest and least rated categories\n",
    "\n",
    "highest_rated_category = main_category_avg_rating.idxmax()\n",
    "highest_rating = main_category_avg_rating.max()\n",
    "\n",
    "least_rated_category = main_category_avg_rating.idxmin()\n",
    "least_rating = main_category_avg_rating.min()\n",
    "\n",
    "# Print the results\n",
    "print(f\"Highest rated category: '{highest_rated_category}' with a rating of {highest_rating}\")\n",
    "print(f\"Least rated category: '{least_rated_category}' with a rating of {least_rating}\")"
   ]
  },
  {
   "cell_type": "code",
   "execution_count": null,
   "id": "9b6a3abc",
   "metadata": {
    "execution": {
     "iopub.execute_input": "2025-04-08T20:08:14.006909Z",
     "iopub.status.busy": "2025-04-08T20:08:14.006516Z",
     "iopub.status.idle": "2025-04-08T20:08:14.482405Z",
     "shell.execute_reply": "2025-04-08T20:08:14.481209Z"
    },
    "papermill": {
     "duration": 0.580892,
     "end_time": "2025-04-08T20:08:14.484826",
     "exception": false,
     "start_time": "2025-04-08T20:08:13.903934",
     "status": "completed"
    },
    "tags": []
   },
   "outputs": [],
   "source": [
    "# Plotting\n",
    "plt.figure(figsize=(12,6))\n",
    "bars=sns.barplot(x=main_category_avg_rating.index,y=main_category_avg_rating.values,color='pink')\n",
    "plt.bar_label(bars.containers[0], labels=main_category_avg_rating,fontsize=11.5,color='black')\n",
    "plt.xticks(rotation=90,fontsize=10)\n",
    "plt.title(\"Avg Rating across Main Category\",fontsize=15)\n",
    "plt.xlabel(\"Main Category  --->\",fontsize=10)\n",
    "plt.ylabel(\"Avg Rating  --->\",fontsize=10)\n",
    "plt.ylim(0,5)\n",
    "plt.show()"
   ]
  },
  {
   "cell_type": "markdown",
   "id": "b7e3c788",
   "metadata": {
    "papermill": {
     "duration": 0.104426,
     "end_time": "2025-04-08T20:08:14.691627",
     "exception": false,
     "start_time": "2025-04-08T20:08:14.587201",
     "status": "completed"
    },
    "tags": []
   },
   "source": [
    ">"
   ]
  },
  {
   "cell_type": "markdown",
   "id": "2a04eaca",
   "metadata": {
    "papermill": {
     "duration": 0.102264,
     "end_time": "2025-04-08T20:08:14.898294",
     "exception": false,
     "start_time": "2025-04-08T20:08:14.796030",
     "status": "completed"
    },
    "tags": []
   },
   "source": [
    "##### least rated category- \"home, kitchen, pets\" "
   ]
  },
  {
   "cell_type": "markdown",
   "id": "610dcafa",
   "metadata": {
    "papermill": {
     "duration": 0.103837,
     "end_time": "2025-04-08T20:08:15.106473",
     "exception": false,
     "start_time": "2025-04-08T20:08:15.002636",
     "status": "completed"
    },
    "tags": []
   },
   "source": [
    ">\n",
    "#####  Clearly,  highest rated category-\"grocery & gourmet foods\"\n",
    "        "
   ]
  },
  {
   "cell_type": "markdown",
   "id": "9bf1f743",
   "metadata": {
    "papermill": {
     "duration": 0.100025,
     "end_time": "2025-04-08T20:08:15.306357",
     "exception": false,
     "start_time": "2025-04-08T20:08:15.206332",
     "status": "completed"
    },
    "tags": []
   },
   "source": [
    "#### c) Calculate the average rating for each main_category and sub_category "
   ]
  },
  {
   "cell_type": "code",
   "execution_count": null,
   "id": "6d719145",
   "metadata": {
    "execution": {
     "iopub.execute_input": "2025-04-08T20:08:15.510070Z",
     "iopub.status.busy": "2025-04-08T20:08:15.509658Z",
     "iopub.status.idle": "2025-04-08T20:08:15.601100Z",
     "shell.execute_reply": "2025-04-08T20:08:15.598848Z"
    },
    "papermill": {
     "duration": 0.198318,
     "end_time": "2025-04-08T20:08:15.603697",
     "exception": false,
     "start_time": "2025-04-08T20:08:15.405379",
     "status": "completed"
    },
    "tags": []
   },
   "outputs": [],
   "source": [
    "# Group by 'main_category' and 'sub_category' and calculate the mean ratings\n",
    "grouped = data.groupby(['main_category', 'sub_category'])\n",
    "avg_ratings = np.round(grouped['ratings'].mean(), 2)\n",
    "# Print the result\n",
    "print(avg_ratings)"
   ]
  },
  {
   "cell_type": "code",
   "execution_count": null,
   "id": "a947f10a",
   "metadata": {
    "execution": {
     "iopub.execute_input": "2025-04-08T20:08:15.817233Z",
     "iopub.status.busy": "2025-04-08T20:08:15.816867Z",
     "iopub.status.idle": "2025-04-08T20:08:15.866714Z",
     "shell.execute_reply": "2025-04-08T20:08:15.865583Z"
    },
    "papermill": {
     "duration": 0.159554,
     "end_time": "2025-04-08T20:08:15.868986",
     "exception": false,
     "start_time": "2025-04-08T20:08:15.709432",
     "status": "completed"
    },
    "tags": []
   },
   "outputs": [],
   "source": [
    "sub_category_grouped=data.groupby('sub_category')\n",
    "sub_category_avg_rating=np.round(sub_category_grouped['ratings'].mean(),2)\n",
    "sub_category_avg_rating=sub_category_avg_rating.sort_values(ascending=True)\n",
    "sub_category_avg_rating"
   ]
  },
  {
   "cell_type": "code",
   "execution_count": null,
   "id": "e12bfc8e",
   "metadata": {
    "execution": {
     "iopub.execute_input": "2025-04-08T20:08:16.079026Z",
     "iopub.status.busy": "2025-04-08T20:08:16.078604Z",
     "iopub.status.idle": "2025-04-08T20:08:16.780848Z",
     "shell.execute_reply": "2025-04-08T20:08:16.779671Z"
    },
    "papermill": {
     "duration": 0.811147,
     "end_time": "2025-04-08T20:08:16.783340",
     "exception": false,
     "start_time": "2025-04-08T20:08:15.972193",
     "status": "completed"
    },
    "tags": []
   },
   "outputs": [],
   "source": [
    "plt.figure(figsize=(12,7))\n",
    "bars=sub_category_avg_rating.sort_values().plot(kind='barh',figsize=(10,8),title=\"RATINGS ACROSS DIFFERENT SUBCATEGORIES\",color='#9B59B6',alpha=0.7)\n",
    "plt.bar_label(bars.containers[0], labels=sub_category_avg_rating, padding=2,fontsize=13)\n",
    "plt.title(\"Ratings Across SubCategory -->\",fontsize=15)\n",
    "plt.ylabel(\"Sub Category\", fontsize=10)\n",
    "plt.xlabel(\"Avg Rating -->\", fontsize=10)\n",
    "plt.yticks(fontsize=10)\n",
    "plt.xlim(0,5)\n",
    "plt.show()"
   ]
  },
  {
   "cell_type": "markdown",
   "id": "b0dcda7e",
   "metadata": {
    "papermill": {
     "duration": 0.103547,
     "end_time": "2025-04-08T20:08:16.992046",
     "exception": false,
     "start_time": "2025-04-08T20:08:16.888499",
     "status": "completed"
    },
    "tags": []
   },
   "source": [
    "##### \"Kids\" is least rated subcategory and \"Sports\" is highly rated"
   ]
  },
  {
   "cell_type": "markdown",
   "id": "dd5d8133",
   "metadata": {
    "papermill": {
     "duration": 0.108853,
     "end_time": "2025-04-08T20:08:17.208950",
     "exception": false,
     "start_time": "2025-04-08T20:08:17.100097",
     "status": "completed"
    },
    "tags": []
   },
   "source": [
    "##### It is important to note that every category has got avg rating >3.5"
   ]
  },
  {
   "cell_type": "markdown",
   "id": "aa556662",
   "metadata": {
    "papermill": {
     "duration": 0.104316,
     "end_time": "2025-04-08T20:08:17.421622",
     "exception": false,
     "start_time": "2025-04-08T20:08:17.317306",
     "status": "completed"
    },
    "tags": []
   },
   "source": [
    "#### 3 d) the relationship between ratings and no._of_ratings."
   ]
  },
  {
   "cell_type": "code",
   "execution_count": null,
   "id": "41de06b5",
   "metadata": {
    "execution": {
     "iopub.execute_input": "2025-04-08T20:08:17.631820Z",
     "iopub.status.busy": "2025-04-08T20:08:17.630872Z",
     "iopub.status.idle": "2025-04-08T20:08:17.645797Z",
     "shell.execute_reply": "2025-04-08T20:08:17.644508Z"
    },
    "papermill": {
     "duration": 0.121826,
     "end_time": "2025-04-08T20:08:17.648119",
     "exception": false,
     "start_time": "2025-04-08T20:08:17.526293",
     "status": "completed"
    },
    "tags": []
   },
   "outputs": [],
   "source": [
    "correlation = data['ratings'].corr(data['no_of_ratings'])\n",
    "print(f\"The correlation between ratings and no._of_ratings is: {correlation:.2f}\")"
   ]
  },
  {
   "cell_type": "markdown",
   "id": "8f764d4b",
   "metadata": {
    "papermill": {
     "duration": 0.111789,
     "end_time": "2025-04-08T20:08:17.872852",
     "exception": false,
     "start_time": "2025-04-08T20:08:17.761063",
     "status": "completed"
    },
    "tags": []
   },
   "source": [
    "##### Correlation of 0.03 suggests that knowing the rating of a product does not give useful information about the number of ratings it has received."
   ]
  },
  {
   "cell_type": "code",
   "execution_count": null,
   "id": "7bfe8675",
   "metadata": {
    "execution": {
     "iopub.execute_input": "2025-04-08T20:08:18.090732Z",
     "iopub.status.busy": "2025-04-08T20:08:18.090346Z",
     "iopub.status.idle": "2025-04-08T20:08:19.451694Z",
     "shell.execute_reply": "2025-04-08T20:08:19.450443Z"
    },
    "papermill": {
     "duration": 1.474785,
     "end_time": "2025-04-08T20:08:19.454050",
     "exception": false,
     "start_time": "2025-04-08T20:08:17.979265",
     "status": "completed"
    },
    "tags": []
   },
   "outputs": [],
   "source": [
    "import matplotlib.pyplot as plt\n",
    "\n",
    "plt.scatter(data['ratings'], data['no_of_ratings'],c='#2ECC71')\n",
    "plt.title('Scatter Plot of Ratings vs Number of Ratings')\n",
    "plt.xlabel('Ratings')\n",
    "plt.ylabel('Number of Ratings')\n",
    "plt.show()"
   ]
  },
  {
   "cell_type": "markdown",
   "id": "93f6168c",
   "metadata": {
    "papermill": {
     "duration": 0.106923,
     "end_time": "2025-04-08T20:08:19.666765",
     "exception": false,
     "start_time": "2025-04-08T20:08:19.559842",
     "status": "completed"
    },
    "tags": []
   },
   "source": [
    " "
   ]
  },
  {
   "cell_type": "markdown",
   "id": "440c54b5",
   "metadata": {
    "papermill": {
     "duration": 0.10632,
     "end_time": "2025-04-08T20:08:19.883684",
     "exception": false,
     "start_time": "2025-04-08T20:08:19.777364",
     "status": "completed"
    },
    "tags": []
   },
   "source": [
    " "
   ]
  },
  {
   "cell_type": "markdown",
   "id": "811a897b",
   "metadata": {
    "_kg_hide-input": true,
    "_kg_hide-output": true,
    "papermill": {
     "duration": 0.102839,
     "end_time": "2025-04-08T20:08:20.090989",
     "exception": false,
     "start_time": "2025-04-08T20:08:19.988150",
     "status": "completed"
    },
    "tags": []
   },
   "source": [
    "# Product analysis"
   ]
  },
  {
   "cell_type": "markdown",
   "id": "a08a913b",
   "metadata": {
    "papermill": {
     "duration": 0.103565,
     "end_time": "2025-04-08T20:08:20.297544",
     "exception": false,
     "start_time": "2025-04-08T20:08:20.193979",
     "status": "completed"
    },
    "tags": []
   },
   "source": [
    "\n",
    "<h3 style = \"background-color: #111;\n",
    "             padding: 15px;\n",
    "             font: bold 22px arial;\n",
    "             color: lightgreen;\n",
    "             border: 2px solid lime;\n",
    "             border-radius: 8px\">\n",
    " 4) Product Analysis 🚚🎒🔍 </h3>"
   ]
  },
  {
   "cell_type": "markdown",
   "id": "93f2a6bd",
   "metadata": {
    "papermill": {
     "duration": 0.101847,
     "end_time": "2025-04-08T20:08:20.502504",
     "exception": false,
     "start_time": "2025-04-08T20:08:20.400657",
     "status": "completed"
    },
    "tags": []
   },
   "source": [
    "#### 4 a) Number Of Products in different Categories"
   ]
  },
  {
   "cell_type": "code",
   "execution_count": null,
   "id": "758d0e96",
   "metadata": {
    "execution": {
     "iopub.execute_input": "2025-04-08T20:08:20.710538Z",
     "iopub.status.busy": "2025-04-08T20:08:20.710163Z",
     "iopub.status.idle": "2025-04-08T20:08:20.783735Z",
     "shell.execute_reply": "2025-04-08T20:08:20.782596Z"
    },
    "papermill": {
     "duration": 0.180069,
     "end_time": "2025-04-08T20:08:20.786151",
     "exception": false,
     "start_time": "2025-04-08T20:08:20.606082",
     "status": "completed"
    },
    "tags": []
   },
   "outputs": [],
   "source": [
    "data_group = data.groupby(['main_category']).agg({'name':'count'}).reset_index()\n",
    "data_group.columns = ['main_category', 'No_of_products']\n",
    "\n",
    "# Print the result\n",
    "print(data_group)\n"
   ]
  },
  {
   "cell_type": "code",
   "execution_count": null,
   "id": "88990633",
   "metadata": {
    "execution": {
     "iopub.execute_input": "2025-04-08T20:08:20.995778Z",
     "iopub.status.busy": "2025-04-08T20:08:20.995072Z",
     "iopub.status.idle": "2025-04-08T20:08:21.454113Z",
     "shell.execute_reply": "2025-04-08T20:08:21.452851Z"
    },
    "papermill": {
     "duration": 0.566693,
     "end_time": "2025-04-08T20:08:21.456710",
     "exception": false,
     "start_time": "2025-04-08T20:08:20.890017",
     "status": "completed"
    },
    "tags": []
   },
   "outputs": [],
   "source": [
    "plt.figure(figsize=(12,6))\n",
    "bars=plt.bar(data_group['main_category'],data_group['No_of_products'],color='skyblue',alpha=1)\n",
    "plt.bar_label(bars, label=data_group['No_of_products'],label_type='edge',fontsize=11,color='black')\n",
    "plt.xticks(rotation=90,fontsize=10)\n",
    "plt.yticks(fontsize=10)\n",
    "plt.xlabel(\"Main Categories -->\", fontsize=10)\n",
    "plt.ylabel(\"Product Count -->\" ,fontsize=10)\n",
    "plt.title(\"NUMBER OF PRODUCTS IN DIFFERENT CATEGORIES\",fontsize=15)\n",
    "plt.show()"
   ]
  },
  {
   "cell_type": "markdown",
   "id": "e06c1d63",
   "metadata": {
    "papermill": {
     "duration": 0.105014,
     "end_time": "2025-04-08T20:08:21.667297",
     "exception": false,
     "start_time": "2025-04-08T20:08:21.562283",
     "status": "completed"
    },
    "tags": []
   },
   "source": [
    "#### 4b) Products with the highest number of ratings (TOP 10 PRODUCTS)"
   ]
  },
  {
   "cell_type": "code",
   "execution_count": null,
   "id": "e85aa3cb",
   "metadata": {
    "execution": {
     "iopub.execute_input": "2025-04-08T20:08:21.881567Z",
     "iopub.status.busy": "2025-04-08T20:08:21.881208Z",
     "iopub.status.idle": "2025-04-08T20:08:23.290696Z",
     "shell.execute_reply": "2025-04-08T20:08:23.289748Z"
    },
    "papermill": {
     "duration": 1.519524,
     "end_time": "2025-04-08T20:08:23.293109",
     "exception": false,
     "start_time": "2025-04-08T20:08:21.773585",
     "status": "completed"
    },
    "tags": []
   },
   "outputs": [],
   "source": [
    "data_gr=data.groupby(['name']).agg({'no_of_ratings': 'sum'}).sort_values(by='no_of_ratings',ascending=False)\n",
    "\n",
    "# Assign ranks, ensuring that products with the same number of ratings get the same rank\n",
    "data_gr['rank'] = data_gr['no_of_ratings'].rank(method='dense', ascending=False)\n",
    "\n",
    "top_n = 10\n",
    "top_products = data_gr[data_gr['rank'] <= top_n]\n",
    "top_products.columns=['no_of_ratings','rank']"
   ]
  },
  {
   "cell_type": "code",
   "execution_count": null,
   "id": "c1998444",
   "metadata": {
    "execution": {
     "iopub.execute_input": "2025-04-08T20:08:23.512805Z",
     "iopub.status.busy": "2025-04-08T20:08:23.512466Z",
     "iopub.status.idle": "2025-04-08T20:08:23.520560Z",
     "shell.execute_reply": "2025-04-08T20:08:23.519586Z"
    },
    "papermill": {
     "duration": 0.120906,
     "end_time": "2025-04-08T20:08:23.524036",
     "exception": false,
     "start_time": "2025-04-08T20:08:23.403130",
     "status": "completed"
    },
    "tags": []
   },
   "outputs": [],
   "source": [
    "print(top_products)"
   ]
  },
  {
   "cell_type": "code",
   "execution_count": null,
   "id": "9ebfb5b4",
   "metadata": {
    "execution": {
     "iopub.execute_input": "2025-04-08T20:08:23.741904Z",
     "iopub.status.busy": "2025-04-08T20:08:23.741569Z",
     "iopub.status.idle": "2025-04-08T20:08:24.094235Z",
     "shell.execute_reply": "2025-04-08T20:08:24.092982Z"
    },
    "papermill": {
     "duration": 0.464912,
     "end_time": "2025-04-08T20:08:24.097793",
     "exception": false,
     "start_time": "2025-04-08T20:08:23.632881",
     "status": "completed"
    },
    "tags": []
   },
   "outputs": [],
   "source": [
    "# plot top 3 products\n",
    "\n",
    "top_3_products = data_gr[data_gr['rank'] <= 3]\n",
    "\n",
    "# Plotting the top 3 products\n",
    "plt.figure(figsize=(12, 6))\n",
    "sns.barplot(x=top_3_products.index, y='no_of_ratings', data=top_3_products,width=0.4)\n",
    "plt.title('Top 3 Products by Number of Ratings',fontsize=15)\n",
    "plt.xlabel('Product Name',fontsize=10)\n",
    "plt.ylabel('Number of Ratings',fontsize=10)\n",
    "                                                                                   \n",
    "plt.xticks(rotation=90,fontsize=10)\n",
    "\n",
    "plt.show()"
   ]
  },
  {
   "cell_type": "markdown",
   "id": "7cb98f2b",
   "metadata": {
    "papermill": {
     "duration": 0.113809,
     "end_time": "2025-04-08T20:08:24.323891",
     "exception": false,
     "start_time": "2025-04-08T20:08:24.210082",
     "status": "completed"
    },
    "tags": []
   },
   "source": [
    " "
   ]
  },
  {
   "cell_type": "markdown",
   "id": "6fb36d28",
   "metadata": {
    "papermill": {
     "duration": 0.10919,
     "end_time": "2025-04-08T20:08:24.545056",
     "exception": false,
     "start_time": "2025-04-08T20:08:24.435866",
     "status": "completed"
    },
    "tags": []
   },
   "source": [
    " "
   ]
  },
  {
   "cell_type": "markdown",
   "id": "849e0a8d",
   "metadata": {
    "_kg_hide-input": true,
    "_kg_hide-output": true,
    "papermill": {
     "duration": 0.118733,
     "end_time": "2025-04-08T20:08:24.776629",
     "exception": false,
     "start_time": "2025-04-08T20:08:24.657896",
     "status": "completed"
    },
    "tags": []
   },
   "source": [
    "# Correlation Analysis"
   ]
  },
  {
   "cell_type": "markdown",
   "id": "46facf5e",
   "metadata": {
    "papermill": {
     "duration": 0.116322,
     "end_time": "2025-04-08T20:08:25.010704",
     "exception": false,
     "start_time": "2025-04-08T20:08:24.894382",
     "status": "completed"
    },
    "tags": []
   },
   "source": [
    "\n",
    "<h3 style = \"background-color: #111;\n",
    "             padding: 15px;\n",
    "             font: bold 22px arial;\n",
    "             color: lightgreen;\n",
    "             border: 2px solid lime;\n",
    "             border-radius: 8px\">\n",
    " 5) Correlation Analysis✍️ </h3>"
   ]
  },
  {
   "cell_type": "code",
   "execution_count": null,
   "id": "8703945a",
   "metadata": {
    "execution": {
     "iopub.execute_input": "2025-04-08T20:08:25.232945Z",
     "iopub.status.busy": "2025-04-08T20:08:25.232564Z",
     "iopub.status.idle": "2025-04-08T20:08:25.284444Z",
     "shell.execute_reply": "2025-04-08T20:08:25.283220Z"
    },
    "papermill": {
     "duration": 0.165134,
     "end_time": "2025-04-08T20:08:25.286644",
     "exception": false,
     "start_time": "2025-04-08T20:08:25.121510",
     "status": "completed"
    },
    "tags": []
   },
   "outputs": [],
   "source": [
    "correlation_matrix = data[['ratings', 'no_of_ratings', 'discount_price', 'actual_price']].corr()\n",
    "print(correlation_matrix)"
   ]
  },
  {
   "cell_type": "code",
   "execution_count": null,
   "id": "98362b77",
   "metadata": {
    "execution": {
     "iopub.execute_input": "2025-04-08T20:08:25.509055Z",
     "iopub.status.busy": "2025-04-08T20:08:25.508660Z",
     "iopub.status.idle": "2025-04-08T20:08:25.800478Z",
     "shell.execute_reply": "2025-04-08T20:08:25.799238Z"
    },
    "papermill": {
     "duration": 0.405983,
     "end_time": "2025-04-08T20:08:25.802723",
     "exception": false,
     "start_time": "2025-04-08T20:08:25.396740",
     "status": "completed"
    },
    "tags": []
   },
   "outputs": [],
   "source": [
    "# Plot heatmap\n",
    "plt.figure(figsize=(10, 8))\n",
    "sns.heatmap(correlation_matrix, annot=True, cmap='cividis', fmt='.3f', square=True)\n",
    "plt.title('Correlation Matrix Heatmap',fontsize=20)\n",
    "plt.xticks(fontsize=15)\n",
    "plt.yticks(fontsize=15,rotation=360)\n",
    "plt.show()"
   ]
  },
  {
   "cell_type": "markdown",
   "id": "fb7dde55",
   "metadata": {
    "papermill": {
     "duration": 0.110252,
     "end_time": "2025-04-08T20:08:26.026487",
     "exception": false,
     "start_time": "2025-04-08T20:08:25.916235",
     "status": "completed"
    },
    "tags": []
   },
   "source": [
    "##### Clearly these values are close to zero. Hence, there is no linear relationship between variables."
   ]
  },
  {
   "cell_type": "markdown",
   "id": "9db63db4",
   "metadata": {
    "papermill": {
     "duration": 0.111476,
     "end_time": "2025-04-08T20:08:26.247723",
     "exception": false,
     "start_time": "2025-04-08T20:08:26.136247",
     "status": "completed"
    },
    "tags": []
   },
   "source": [
    " "
   ]
  },
  {
   "cell_type": "markdown",
   "id": "0fd5c6d9",
   "metadata": {
    "papermill": {
     "duration": 0.114821,
     "end_time": "2025-04-08T20:08:26.474522",
     "exception": false,
     "start_time": "2025-04-08T20:08:26.359701",
     "status": "completed"
    },
    "tags": []
   },
   "source": [
    " "
   ]
  },
  {
   "cell_type": "markdown",
   "id": "9e380c89",
   "metadata": {
    "_kg_hide-input": true,
    "_kg_hide-output": true,
    "papermill": {
     "duration": 0.111908,
     "end_time": "2025-04-08T20:08:26.699003",
     "exception": false,
     "start_time": "2025-04-08T20:08:26.587095",
     "status": "completed"
    },
    "tags": []
   },
   "source": [
    "# Revenue Analysis"
   ]
  },
  {
   "cell_type": "markdown",
   "id": "8a4be3f4",
   "metadata": {
    "papermill": {
     "duration": 0.111389,
     "end_time": "2025-04-08T20:08:26.925262",
     "exception": false,
     "start_time": "2025-04-08T20:08:26.813873",
     "status": "completed"
    },
    "tags": []
   },
   "source": [
    "\n",
    "<h3 style = \"background-color: #111;\n",
    "             padding: 15px;\n",
    "             font: bold 22px arial;\n",
    "             color: lightgreen;\n",
    "             border: 2px solid lime;\n",
    "             border-radius: 8px\">\n",
    "  6)Revenue Analysis 💰💸🧾️ </h3>"
   ]
  },
  {
   "cell_type": "markdown",
   "id": "ef30d19f",
   "metadata": {
    "papermill": {
     "duration": 0.112632,
     "end_time": "2025-04-08T20:08:27.149822",
     "exception": false,
     "start_time": "2025-04-08T20:08:27.037190",
     "status": "completed"
    },
    "tags": []
   },
   "source": [
    "##### We'll estimate minimum revenue based on no. of ratings.\n",
    "\n",
    "##### It assumes that the number of ratings directly correlates with the number of sales.\n",
    "##### This may not always be true, as not every customer who buys a product leaves a rating.\n",
    "##### This approach can give an idea of minimum revenue generated."
   ]
  },
  {
   "cell_type": "markdown",
   "id": "2b69027c",
   "metadata": {
    "papermill": {
     "duration": 0.113696,
     "end_time": "2025-04-08T20:08:27.376890",
     "exception": false,
     "start_time": "2025-04-08T20:08:27.263194",
     "status": "completed"
    },
    "tags": []
   },
   "source": [
    " "
   ]
  },
  {
   "cell_type": "markdown",
   "id": "99a4e5a8",
   "metadata": {
    "papermill": {
     "duration": 0.112673,
     "end_time": "2025-04-08T20:08:27.601372",
     "exception": false,
     "start_time": "2025-04-08T20:08:27.488699",
     "status": "completed"
    },
    "tags": []
   },
   "source": [
    "#### 6a) Revenue across main_categories"
   ]
  },
  {
   "cell_type": "code",
   "execution_count": null,
   "id": "d45c55c4",
   "metadata": {
    "execution": {
     "iopub.execute_input": "2025-04-08T20:08:27.830132Z",
     "iopub.status.busy": "2025-04-08T20:08:27.829719Z",
     "iopub.status.idle": "2025-04-08T20:08:27.879343Z",
     "shell.execute_reply": "2025-04-08T20:08:27.878198Z"
    },
    "papermill": {
     "duration": 0.167193,
     "end_time": "2025-04-08T20:08:27.881501",
     "exception": false,
     "start_time": "2025-04-08T20:08:27.714308",
     "status": "completed"
    },
    "tags": []
   },
   "outputs": [],
   "source": [
    "\n",
    "# Calculate revenue\n",
    "data['revenue'] = data['no_of_ratings'] * data['actual_price']\n",
    "\n",
    "\n",
    "# Aggregating revenue by main_category\n",
    "category_revenue = data.groupby('main_category')['revenue'].sum().sort_values(ascending=False)\n",
    "\n",
    "print(category_revenue)"
   ]
  },
  {
   "cell_type": "code",
   "execution_count": null,
   "id": "da320e2a",
   "metadata": {
    "execution": {
     "iopub.execute_input": "2025-04-08T20:08:28.106248Z",
     "iopub.status.busy": "2025-04-08T20:08:28.105849Z",
     "iopub.status.idle": "2025-04-08T20:08:28.469348Z",
     "shell.execute_reply": "2025-04-08T20:08:28.468141Z"
    },
    "papermill": {
     "duration": 0.477448,
     "end_time": "2025-04-08T20:08:28.471638",
     "exception": false,
     "start_time": "2025-04-08T20:08:27.994190",
     "status": "completed"
    },
    "tags": []
   },
   "outputs": [],
   "source": [
    "import matplotlib.pyplot as plt\n",
    "import seaborn as sns\n",
    "\n",
    "plt.figure(figsize=(15, 6))\n",
    "sns.barplot(x=category_revenue.index, y=category_revenue.values, palette='magma', width=0.8)\n",
    "plt.title('Total Revenue by Main Category', fontsize=15)\n",
    "plt.xlabel('Main Category', fontsize=10)\n",
    "plt.ylabel('Total Revenue', fontsize=10)\n",
    "plt.xticks(rotation=90, fontsize=10)\n",
    "plt.yticks(fontsize=10)\n",
    "plt.show()\n"
   ]
  },
  {
   "cell_type": "code",
   "execution_count": null,
   "id": "638c3b4c",
   "metadata": {
    "papermill": {
     "duration": 0.111916,
     "end_time": "2025-04-08T20:08:28.697659",
     "exception": false,
     "start_time": "2025-04-08T20:08:28.585743",
     "status": "completed"
    },
    "tags": []
   },
   "outputs": [],
   "source": []
  },
  {
   "cell_type": "markdown",
   "id": "4ea7cb6e",
   "metadata": {
    "papermill": {
     "duration": 0.111367,
     "end_time": "2025-04-08T20:08:28.921862",
     "exception": false,
     "start_time": "2025-04-08T20:08:28.810495",
     "status": "completed"
    },
    "tags": []
   },
   "source": [
    "#### 6b) Top 10 products by revenue"
   ]
  },
  {
   "cell_type": "code",
   "execution_count": null,
   "id": "1eb2d679",
   "metadata": {
    "execution": {
     "iopub.execute_input": "2025-04-08T20:08:29.146100Z",
     "iopub.status.busy": "2025-04-08T20:08:29.145605Z",
     "iopub.status.idle": "2025-04-08T20:08:34.102328Z",
     "shell.execute_reply": "2025-04-08T20:08:34.101072Z"
    },
    "papermill": {
     "duration": 5.073373,
     "end_time": "2025-04-08T20:08:34.104765",
     "exception": false,
     "start_time": "2025-04-08T20:08:29.031392",
     "status": "completed"
    },
    "tags": []
   },
   "outputs": [],
   "source": [
    "data.to_csv(\"Amazon_Products_cleaned_dataset.csv\",index=False)"
   ]
  },
  {
   "cell_type": "code",
   "execution_count": null,
   "id": "069311fe",
   "metadata": {
    "execution": {
     "iopub.execute_input": "2025-04-08T20:08:34.340185Z",
     "iopub.status.busy": "2025-04-08T20:08:34.339326Z",
     "iopub.status.idle": "2025-04-08T20:08:36.057577Z",
     "shell.execute_reply": "2025-04-08T20:08:36.056533Z"
    },
    "papermill": {
     "duration": 1.838507,
     "end_time": "2025-04-08T20:08:36.061281",
     "exception": false,
     "start_time": "2025-04-08T20:08:34.222774",
     "status": "completed"
    },
    "tags": []
   },
   "outputs": [],
   "source": [
    "\n",
    "# Assuming 'data' is your DataFrame\n",
    "top_products = data.groupby(['name']).agg({'revenue':'sum'}).sort_values(by='revenue', ascending=False).head(10).reset_index()\n",
    "\n",
    "plt.figure(figsize=(12, 6))\n",
    "bars = sns.barplot(x='name', y='revenue', data=top_products, palette='viridis')\n",
    "plt.title('Top 10 Products by Revenue')\n",
    "plt.xlabel('Product Name')\n",
    "plt.ylabel('Revenue')\n",
    "plt.xticks(rotation=90)\n",
    "\n",
    "# Add the exact sales numbers inside the bars\n",
    "for bar in bars.patches:\n",
    "    yval = bar.get_height()\n",
    "    plt.text(\n",
    "        bar.get_x() + bar.get_width() / 2.0, \n",
    "        yval / 2, \n",
    "        f'{yval:,.2f}', \n",
    "        ha='center', \n",
    "        va='center', \n",
    "        color='white',\n",
    "        rotation='vertical',\n",
    "        fontsize=10\n",
    "    )\n",
    "\n",
    "plt.show()\n"
   ]
  },
  {
   "cell_type": "markdown",
   "id": "47921613",
   "metadata": {
    "papermill": {
     "duration": 0.116666,
     "end_time": "2025-04-08T20:08:36.356776",
     "exception": false,
     "start_time": "2025-04-08T20:08:36.240110",
     "status": "completed"
    },
    "tags": []
   },
   "source": [
    "  "
   ]
  },
  {
   "cell_type": "markdown",
   "id": "1c549cfa",
   "metadata": {
    "papermill": {
     "duration": 0.115749,
     "end_time": "2025-04-08T20:08:36.589700",
     "exception": false,
     "start_time": "2025-04-08T20:08:36.473951",
     "status": "completed"
    },
    "tags": []
   },
   "source": [
    "  "
   ]
  },
  {
   "cell_type": "markdown",
   "id": "436ed630",
   "metadata": {
    "papermill": {
     "duration": 0.117971,
     "end_time": "2025-04-08T20:08:36.825380",
     "exception": false,
     "start_time": "2025-04-08T20:08:36.707409",
     "status": "completed"
    },
    "tags": []
   },
   "source": [
    "<h3 style = \"background-color: #000033;\n",
    "             padding: 15px;\n",
    "             font: bold 42px arial;\n",
    "             color: #ccebff;\n",
    "             border: 2px #e6e6ff;\n",
    "             border-radius: 8px\">\n",
    "Enjoyed the notebook? An upvote would be truly appreciated!</h3>"
   ]
  },
  {
   "cell_type": "code",
   "execution_count": null,
   "id": "f851cc11",
   "metadata": {
    "papermill": {
     "duration": 0.116836,
     "end_time": "2025-04-08T20:08:37.058071",
     "exception": false,
     "start_time": "2025-04-08T20:08:36.941235",
     "status": "completed"
    },
    "tags": []
   },
   "outputs": [],
   "source": []
  }
 ],
 "metadata": {
  "kaggle": {
   "accelerator": "none",
   "dataSources": [
    {
     "datasetId": 910808,
     "sourceId": 1548153,
     "sourceType": "datasetVersion"
    },
    {
     "datasetId": 1453186,
     "sourceId": 2403172,
     "sourceType": "datasetVersion"
    },
    {
     "datasetId": 2617613,
     "sourceId": 4472377,
     "sourceType": "datasetVersion"
    },
    {
     "datasetId": 2699295,
     "sourceId": 4642886,
     "sourceType": "datasetVersion"
    },
    {
     "datasetId": 2818963,
     "sourceId": 4862520,
     "sourceType": "datasetVersion"
    },
    {
     "datasetId": 3020336,
     "sourceId": 5239462,
     "sourceType": "datasetVersion"
    },
    {
     "datasetId": 3466780,
     "sourceId": 6058421,
     "sourceType": "datasetVersion"
    },
    {
     "datasetId": 3539920,
     "sourceId": 6169470,
     "sourceType": "datasetVersion"
    },
    {
     "datasetId": 3713612,
     "sourceId": 6435177,
     "sourceType": "datasetVersion"
    },
    {
     "datasetId": 4409989,
     "sourceId": 7574373,
     "sourceType": "datasetVersion"
    },
    {
     "datasetId": 3798081,
     "sourceId": 7643327,
     "sourceType": "datasetVersion"
    },
    {
     "datasetId": 4538961,
     "sourceId": 7761022,
     "sourceType": "datasetVersion"
    },
    {
     "datasetId": 3864183,
     "sourceId": 7957877,
     "sourceType": "datasetVersion"
    },
    {
     "datasetId": 4878304,
     "sourceId": 8227051,
     "sourceType": "datasetVersion"
    },
    {
     "datasetId": 5271604,
     "sourceId": 8771994,
     "sourceType": "datasetVersion"
    },
    {
     "datasetId": 5589626,
     "sourceId": 9240530,
     "sourceType": "datasetVersion"
    },
    {
     "datasetId": 5733745,
     "sourceId": 9436678,
     "sourceType": "datasetVersion"
    },
    {
     "datasetId": 5742693,
     "sourceId": 9448429,
     "sourceType": "datasetVersion"
    },
    {
     "datasetId": 7043791,
     "sourceId": 11268405,
     "sourceType": "datasetVersion"
    }
   ],
   "dockerImageVersionId": 30746,
   "isGpuEnabled": false,
   "isInternetEnabled": true,
   "language": "python",
   "sourceType": "notebook"
  },
  "kernelspec": {
   "display_name": "Python 3",
   "language": "python",
   "name": "python3"
  },
  "language_info": {
   "codemirror_mode": {
    "name": "ipython",
    "version": 3
   },
   "file_extension": ".py",
   "mimetype": "text/x-python",
   "name": "python",
   "nbconvert_exporter": "python",
   "pygments_lexer": "ipython3",
   "version": "3.13.2"
  },
  "papermill": {
   "default_parameters": {},
   "duration": 261.129884,
   "end_time": "2025-04-08T20:08:38.096937",
   "environment_variables": {},
   "exception": null,
   "input_path": "__notebook__.ipynb",
   "output_path": "__notebook__.ipynb",
   "parameters": {},
   "start_time": "2025-04-08T20:04:16.967053",
   "version": "2.5.0"
  }
 },
 "nbformat": 4,
 "nbformat_minor": 5
}
